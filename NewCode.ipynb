{
 "cells": [
  {
   "cell_type": "code",
   "execution_count": 2,
   "id": "60add643",
   "metadata": {},
   "outputs": [
    {
     "name": "stderr",
     "output_type": "stream",
     "text": [
      "C:\\Users\\DELL\\anaconda3\\lib\\site-packages\\pandas\\core\\computation\\expressions.py:21: UserWarning: Pandas requires version '2.8.0' or newer of 'numexpr' (version '2.7.3' currently installed).\n",
      "  from pandas.core.computation.check import NUMEXPR_INSTALLED\n",
      "C:\\Users\\DELL\\anaconda3\\lib\\site-packages\\pandas\\core\\arrays\\masked.py:62: UserWarning: Pandas requires version '1.3.4' or newer of 'bottleneck' (version '1.3.2' currently installed).\n",
      "  from pandas.core import (\n"
     ]
    }
   ],
   "source": [
    "import pandas as pd\n",
    "import glob\n",
    "import os\n",
    "import pandas\n",
    "import matplotlib.pyplot as plt\n",
    "import numpy as np\n",
    "import shutil \n",
    "import seaborn as sns\n",
    "from scipy.signal import butter, filtfilt\n",
    "from scipy.signal import correlate\n",
    "import spkit as sp\n",
    "sp.__version__\n",
    "from sklearn.decomposition import FastICA\n",
    "from scipy.signal import butter, filtfilt\n",
    "from scipy.interpolate import interp1d\n",
    "from keras.models import Sequential\n",
    "from keras.layers import Conv1D, MaxPooling1D, Flatten, Dense\n",
    "from tensorflow.keras.models import Sequential\n",
    "from tensorflow.keras.layers import Conv1D, MaxPooling1D, Flatten, Dense\n",
    "from scipy.stats import zscore\n",
    "from tensorflow.keras.models import Sequential\n",
    "from sklearn.model_selection import train_test_split\n",
    "from sklearn.preprocessing import LabelEncoder\n",
    "from sklearn.utils import shuffle\n",
    "import keras.backend as K\n",
    "# Set the floatx attribute explicitly\n",
    "K.set_floatx('float32')\n",
    "from keras.layers import Conv1D, MaxPooling1D\n",
    "from sklearn.model_selection import train_test_split\n",
    "from keras.models import Sequential\n",
    "from keras.layers import Conv2D, MaxPooling2D, Flatten, Dense\n",
    "from keras.models import Sequential\n",
    "from keras.layers import LSTM, Dense\n",
    "import keras.backend as K\n",
    "import pywt"
   ]
  },
  {
   "cell_type": "code",
   "execution_count": 5,
   "id": "aadfa7f0",
   "metadata": {},
   "outputs": [],
   "source": [
    "# Path to the directory containing the CSV files\n",
    "raw_folder = r\"C:\\Users\\DELL\\Desktop\\Masters Project\\LieWaves dataset for lie detection based on EEG signals and wavelets\\Raw\""
   ]
  },
  {
   "cell_type": "code",
   "execution_count": 6,
   "id": "2efa4215",
   "metadata": {},
   "outputs": [],
   "source": [
    "# Create directories to store truth and false files\n",
    "truth_folder = \"Truth\"\n",
    "false_folder = \"False\"\n",
    "os.makedirs(truth_folder, exist_ok=True)\n",
    "os.makedirs(false_folder, exist_ok=True)"
   ]
  },
  {
   "cell_type": "code",
   "execution_count": 7,
   "id": "b141e9c1",
   "metadata": {},
   "outputs": [],
   "source": [
    "# Iterate through files in the Raw folder\n",
    "for filename in os.listdir(raw_folder):\n",
    "    if filename.endswith(\"S1.csv\"):\n",
    "        # Copy truth files to the Truth folder\n",
    "        shutil.copy(os.path.join(raw_folder, filename), os.path.join(truth_folder, filename))\n",
    "    elif filename.endswith(\"S2.csv\"):\n",
    "        # Copy false files to the False folder\n",
    "        shutil.copy(os.path.join(raw_folder, filename), os.path.join(false_folder, filename))"
   ]
  },
  {
   "cell_type": "code",
   "execution_count": 8,
   "id": "35c584cc",
   "metadata": {},
   "outputs": [],
   "source": [
    "# List files in the Truth folder\n",
    "files_in_truth = os.listdir(truth_folder)"
   ]
  },
  {
   "cell_type": "code",
   "execution_count": 9,
   "id": "0e288c62",
   "metadata": {},
   "outputs": [],
   "source": [
    "# List files in the False folder\n",
    "files_in_false = os.listdir(false_folder)"
   ]
  },
  {
   "cell_type": "code",
   "execution_count": 10,
   "id": "9ff30301",
   "metadata": {},
   "outputs": [
    {
     "name": "stdout",
     "output_type": "stream",
     "text": [
      "Files in Truth folder:\n",
      ".ipynb_checkpoints\n",
      "S10S1-Copy1.csv\n",
      "S10S1-Copy2.csv\n",
      "S10S1-Copy3.csv\n",
      "S10S1.csv\n",
      "S11S1-Copy1.csv\n",
      "S11S1-Copy2.csv\n",
      "S11S1-Copy3.csv\n",
      "S11S1.csv\n",
      "S12S1.csv\n",
      "S13S1.csv\n",
      "S14S1.csv\n",
      "S15S1.csv\n",
      "S16S1.csv\n",
      "S17S1.csv\n",
      "S18S1.csv\n",
      "S19S1.csv\n",
      "S1S1.csv\n",
      "S20S1.csv\n",
      "S21S1.csv\n",
      "S22S1.csv\n",
      "S23S1.csv\n",
      "S24S1.csv\n",
      "S25S1.csv\n",
      "S26S1.csv\n",
      "S27S1.csv\n",
      "S2S1.csv\n",
      "S3S1.csv\n",
      "S4S1.csv\n",
      "S5S1.csv\n",
      "S6S1.csv\n",
      "S7S1.csv\n",
      "S8S1.csv\n",
      "S9S1.csv\n"
     ]
    }
   ],
   "source": [
    "# Print the list of files in the Truth folder\n",
    "print(\"Files in Truth folder:\")\n",
    "for filename in files_in_truth:\n",
    "    print(filename)"
   ]
  },
  {
   "cell_type": "code",
   "execution_count": 11,
   "id": "6c6b1ab6",
   "metadata": {},
   "outputs": [
    {
     "name": "stdout",
     "output_type": "stream",
     "text": [
      "Number of files in Truth folder: 34\n"
     ]
    }
   ],
   "source": [
    "# Print the number of files in the Truth folder\n",
    "print(\"Number of files in Truth folder:\", len(files_in_truth))"
   ]
  },
  {
   "cell_type": "code",
   "execution_count": 12,
   "id": "8af34151",
   "metadata": {},
   "outputs": [
    {
     "name": "stdout",
     "output_type": "stream",
     "text": [
      "Files in False folder:\n",
      "S10S2.csv\n",
      "S11S2.csv\n",
      "S12S2.csv\n",
      "S13S2.csv\n",
      "S14S2.csv\n",
      "S15S2.csv\n",
      "S16S2.csv\n",
      "S17S2.csv\n",
      "S18S2.csv\n",
      "S19S2.csv\n",
      "S1S2.csv\n",
      "S20S2.csv\n",
      "S21S2.csv\n",
      "S22S2.csv\n",
      "S23S2.csv\n",
      "S24S2.csv\n",
      "S25S2.csv\n",
      "S26S2.csv\n",
      "S27S2.csv\n",
      "S2S2.csv\n",
      "S3S2.csv\n",
      "S4S2.csv\n",
      "S5S2.csv\n",
      "S6S2.csv\n",
      "S7S2.csv\n",
      "S8S2.csv\n",
      "S9S2.csv\n"
     ]
    }
   ],
   "source": [
    "# Print the list of files in the False folder ending with \"S2.csv\"\n",
    "print(\"Files in False folder:\")\n",
    "for filename in files_in_false:\n",
    "    if filename.endswith(\"S2.csv\"):\n",
    "        print(filename)"
   ]
  },
  {
   "cell_type": "code",
   "execution_count": 13,
   "id": "9f9f874e",
   "metadata": {},
   "outputs": [
    {
     "name": "stdout",
     "output_type": "stream",
     "text": [
      "Number of files in False folder: 27\n"
     ]
    }
   ],
   "source": [
    "# List files in the False folder\n",
    "files_in_false = [file for file in os.listdir(false_folder) if file.endswith(\"S2.csv\")]\n",
    "\n",
    "# Print the number of files in the False folder\n",
    "print(\"Number of files in False folder:\", len(files_in_false))"
   ]
  },
  {
   "cell_type": "code",
   "execution_count": 14,
   "id": "2e47ee12",
   "metadata": {},
   "outputs": [],
   "source": [
    "# Convert the list to a set to remove duplicates, then back to a list\n",
    "files_in_truth = list(set(files_in_truth))\n"
   ]
  },
  {
   "cell_type": "code",
   "execution_count": 15,
   "id": "36debda3",
   "metadata": {},
   "outputs": [],
   "source": [
    "# Filter out files with \".copy.csv\" suffix\n",
    "files_in_truth = [file for file in files_in_truth if not file.endswith(\".copy.csv\")]\n"
   ]
  },
  {
   "cell_type": "markdown",
   "id": "8df87cc6",
   "metadata": {},
   "source": [
    "Combine all CSV files in Truth folder together and False folder together"
   ]
  },
  {
   "cell_type": "code",
   "execution_count": 16,
   "id": "3dc57b3d",
   "metadata": {},
   "outputs": [],
   "source": [
    "# Path to the directory containing the CSV files\n",
    "truth_folder_path = \"./Truth\""
   ]
  },
  {
   "cell_type": "code",
   "execution_count": 17,
   "id": "6bdcec3c",
   "metadata": {},
   "outputs": [],
   "source": [
    "# Path to the directory containing the CSV files\n",
    "false_folder_path = \"./False\""
   ]
  },
  {
   "cell_type": "code",
   "execution_count": 18,
   "id": "adc6345e",
   "metadata": {},
   "outputs": [],
   "source": [
    "# List all CSV files in the directory\n",
    "T_csv_files = [file for file in os.listdir(truth_folder_path) if file.endswith('.csv')]"
   ]
  },
  {
   "cell_type": "code",
   "execution_count": 19,
   "id": "4358e7c8",
   "metadata": {},
   "outputs": [],
   "source": [
    "# List all CSV files in the directory\n",
    "F_csv_files = [file for file in os.listdir(false_folder_path) if file.endswith('.csv')]"
   ]
  },
  {
   "cell_type": "code",
   "execution_count": 20,
   "id": "84abdc82",
   "metadata": {},
   "outputs": [],
   "source": [
    "# Initialize an empty list to store DataFrames\n",
    "Tdfs = []"
   ]
  },
  {
   "cell_type": "code",
   "execution_count": 21,
   "id": "1a72aea0",
   "metadata": {},
   "outputs": [],
   "source": [
    "# Initialize an empty list to store DataFrames\n",
    "Fdfs = []"
   ]
  },
  {
   "cell_type": "code",
   "execution_count": 22,
   "id": "b8433072",
   "metadata": {},
   "outputs": [],
   "source": [
    "# Iterate through each CSV file, read it into a DataFrame, and append it to the list\n",
    "for file in T_csv_files:\n",
    "    file_path = os.path.join(truth_folder_path, file)\n",
    "    df = pd.read_csv(file_path)\n",
    "    Tdfs.append(df)"
   ]
  },
  {
   "cell_type": "code",
   "execution_count": 23,
   "id": "0efd3785",
   "metadata": {},
   "outputs": [],
   "source": [
    "# Iterate through each CSV file, read it into a DataFrame, and append it to the list\n",
    "for file in F_csv_files:\n",
    "    file_path = os.path.join(false_folder_path, file)\n",
    "    df2 = pd.read_csv(file_path)\n",
    "    Fdfs.append(df2)"
   ]
  },
  {
   "cell_type": "code",
   "execution_count": 24,
   "id": "e05964d7",
   "metadata": {},
   "outputs": [
    {
     "name": "stdout",
     "output_type": "stream",
     "text": [
      "CSV files were successfully read.\n"
     ]
    }
   ],
   "source": [
    "# Check if any Truth files were successfully read\n",
    "if len(Tdfs) == 0:\n",
    "    print(\"No CSV files were read.\")\n",
    "else:\n",
    "    print(\"CSV files were successfully read.\")"
   ]
  },
  {
   "cell_type": "code",
   "execution_count": 25,
   "id": "16a32100",
   "metadata": {},
   "outputs": [
    {
     "name": "stdout",
     "output_type": "stream",
     "text": [
      "CSV files were successfully read.\n"
     ]
    }
   ],
   "source": [
    "# Check if any False files were successfully read\n",
    "if len(Fdfs) == 0:\n",
    "    print(\"No CSV files were read.\")\n",
    "else:\n",
    "    print(\"CSV files were successfully read.\")"
   ]
  },
  {
   "cell_type": "code",
   "execution_count": 26,
   "id": "4014afbd",
   "metadata": {},
   "outputs": [],
   "source": [
    "# Concatenate all DataFrames in the list along the rows\n",
    "Truth_df = pd.concat(Tdfs, ignore_index=True)"
   ]
  },
  {
   "cell_type": "code",
   "execution_count": 27,
   "id": "fcc20eef",
   "metadata": {},
   "outputs": [],
   "source": [
    "# Concatenate all DataFrames in the list along the rows\n",
    "False_df = pd.concat(Fdfs, ignore_index=True)"
   ]
  },
  {
   "cell_type": "code",
   "execution_count": 28,
   "id": "bdfb6f15",
   "metadata": {},
   "outputs": [
    {
     "data": {
      "text/html": [
       "<div>\n",
       "<style scoped>\n",
       "    .dataframe tbody tr th:only-of-type {\n",
       "        vertical-align: middle;\n",
       "    }\n",
       "\n",
       "    .dataframe tbody tr th {\n",
       "        vertical-align: top;\n",
       "    }\n",
       "\n",
       "    .dataframe thead th {\n",
       "        text-align: right;\n",
       "    }\n",
       "</style>\n",
       "<table border=\"1\" class=\"dataframe\">\n",
       "  <thead>\n",
       "    <tr style=\"text-align: right;\">\n",
       "      <th></th>\n",
       "      <th>EEG.AF3</th>\n",
       "      <th>EEG.T7</th>\n",
       "      <th>EEG.Pz</th>\n",
       "      <th>EEG.T8</th>\n",
       "      <th>EEG.AF4</th>\n",
       "    </tr>\n",
       "  </thead>\n",
       "  <tbody>\n",
       "    <tr>\n",
       "      <th>0</th>\n",
       "      <td>24.98630</td>\n",
       "      <td>-26.45282</td>\n",
       "      <td>4.75641</td>\n",
       "      <td>-22.87943</td>\n",
       "      <td>43.64128</td>\n",
       "    </tr>\n",
       "    <tr>\n",
       "      <th>1</th>\n",
       "      <td>21.90964</td>\n",
       "      <td>-38.76044</td>\n",
       "      <td>13.98688</td>\n",
       "      <td>-19.80229</td>\n",
       "      <td>38.51335</td>\n",
       "    </tr>\n",
       "    <tr>\n",
       "      <th>2</th>\n",
       "      <td>14.72996</td>\n",
       "      <td>-46.96600</td>\n",
       "      <td>4.24323</td>\n",
       "      <td>-20.82816</td>\n",
       "      <td>37.48747</td>\n",
       "    </tr>\n",
       "    <tr>\n",
       "      <th>3</th>\n",
       "      <td>21.39646</td>\n",
       "      <td>-49.01727</td>\n",
       "      <td>10.39703</td>\n",
       "      <td>-34.16166</td>\n",
       "      <td>51.84636</td>\n",
       "    </tr>\n",
       "    <tr>\n",
       "      <th>4</th>\n",
       "      <td>18.31980</td>\n",
       "      <td>-59.27362</td>\n",
       "      <td>2.70514</td>\n",
       "      <td>-43.39213</td>\n",
       "      <td>41.07731</td>\n",
       "    </tr>\n",
       "    <tr>\n",
       "      <th>...</th>\n",
       "      <td>...</td>\n",
       "      <td>...</td>\n",
       "      <td>...</td>\n",
       "      <td>...</td>\n",
       "      <td>...</td>\n",
       "    </tr>\n",
       "    <tr>\n",
       "      <th>316795</th>\n",
       "      <td>162.54709</td>\n",
       "      <td>-4.14149</td>\n",
       "      <td>-11.84573</td>\n",
       "      <td>-6.14782</td>\n",
       "      <td>135.01385</td>\n",
       "    </tr>\n",
       "    <tr>\n",
       "      <th>316796</th>\n",
       "      <td>134.85471</td>\n",
       "      <td>-4.14149</td>\n",
       "      <td>-15.43508</td>\n",
       "      <td>-9.73767</td>\n",
       "      <td>112.96258</td>\n",
       "    </tr>\n",
       "    <tr>\n",
       "      <th>316797</th>\n",
       "      <td>106.64963</td>\n",
       "      <td>-16.44911</td>\n",
       "      <td>-20.56350</td>\n",
       "      <td>-9.73767</td>\n",
       "      <td>80.14227</td>\n",
       "    </tr>\n",
       "    <tr>\n",
       "      <th>316798</th>\n",
       "      <td>78.95725</td>\n",
       "      <td>-24.65419</td>\n",
       "      <td>-19.53762</td>\n",
       "      <td>-10.25036</td>\n",
       "      <td>67.83416</td>\n",
       "    </tr>\n",
       "    <tr>\n",
       "      <th>316799</th>\n",
       "      <td>50.75217</td>\n",
       "      <td>-26.70546</td>\n",
       "      <td>-26.71731</td>\n",
       "      <td>-15.37878</td>\n",
       "      <td>56.55242</td>\n",
       "    </tr>\n",
       "  </tbody>\n",
       "</table>\n",
       "<p>316800 rows × 5 columns</p>\n",
       "</div>"
      ],
      "text/plain": [
       "          EEG.AF3    EEG.T7    EEG.Pz    EEG.T8    EEG.AF4\n",
       "0        24.98630 -26.45282   4.75641 -22.87943   43.64128\n",
       "1        21.90964 -38.76044  13.98688 -19.80229   38.51335\n",
       "2        14.72996 -46.96600   4.24323 -20.82816   37.48747\n",
       "3        21.39646 -49.01727  10.39703 -34.16166   51.84636\n",
       "4        18.31980 -59.27362   2.70514 -43.39213   41.07731\n",
       "...           ...       ...       ...       ...        ...\n",
       "316795  162.54709  -4.14149 -11.84573  -6.14782  135.01385\n",
       "316796  134.85471  -4.14149 -15.43508  -9.73767  112.96258\n",
       "316797  106.64963 -16.44911 -20.56350  -9.73767   80.14227\n",
       "316798   78.95725 -24.65419 -19.53762 -10.25036   67.83416\n",
       "316799   50.75217 -26.70546 -26.71731 -15.37878   56.55242\n",
       "\n",
       "[316800 rows x 5 columns]"
      ]
     },
     "execution_count": 28,
     "metadata": {},
     "output_type": "execute_result"
    }
   ],
   "source": [
    "# Display the combined DataFrame\n",
    "Truth_df"
   ]
  },
  {
   "cell_type": "code",
   "execution_count": 36,
   "id": "3d471158",
   "metadata": {},
   "outputs": [
    {
     "data": {
      "image/png": "[encoded data removed]",
      "text/plain": [
       "<Figure size 720x432 with 1 Axes>"
      ]
     },
     "metadata": {
      "needs_background": "light"
     },
     "output_type": "display_data"
    }
   ],
   "source": [
    "# Calculate the sum of values for each named column\n",
    "sum_values = Truth_df.sum()\n",
    "\n",
    "# Plot the barcode\n",
    "plt.figure(figsize=(10, 6))\n",
    "plt.bar(sum_values.index, sum_values.values, color='blue')\n",
    "plt.xlabel('Columns')\n",
    "plt.ylabel('Sum of Values')\n",
    "plt.title('Sum of Truth Values')\n",
    "plt.xticks(rotation=45)\n",
    "plt.grid(axis='y', linestyle='--', alpha=0.7)\n",
    "plt.tight_layout()\n",
    "plt.show()"
   ]
  },
  {
   "cell_type": "code",
   "execution_count": 32,
   "id": "fb37530f",
   "metadata": {},
   "outputs": [
    {
     "data": {
      "text/html": [
       "<div>\n",
       "<style scoped>\n",
       "    .dataframe tbody tr th:only-of-type {\n",
       "        vertical-align: middle;\n",
       "    }\n",
       "\n",
       "    .dataframe tbody tr th {\n",
       "        vertical-align: top;\n",
       "    }\n",
       "\n",
       "    .dataframe thead th {\n",
       "        text-align: right;\n",
       "    }\n",
       "</style>\n",
       "<table border=\"1\" class=\"dataframe\">\n",
       "  <thead>\n",
       "    <tr style=\"text-align: right;\">\n",
       "      <th></th>\n",
       "      <th>EEG.AF3</th>\n",
       "      <th>EEG.T7</th>\n",
       "      <th>EEG.Pz</th>\n",
       "      <th>EEG.T8</th>\n",
       "      <th>EEG.AF4</th>\n",
       "    </tr>\n",
       "  </thead>\n",
       "  <tbody>\n",
       "    <tr>\n",
       "      <th>0</th>\n",
       "      <td>77.10975</td>\n",
       "      <td>-13.70854</td>\n",
       "      <td>6.35680</td>\n",
       "      <td>20.90323</td>\n",
       "      <td>85.75735</td>\n",
       "    </tr>\n",
       "    <tr>\n",
       "      <th>1</th>\n",
       "      <td>68.90467</td>\n",
       "      <td>-9.60600</td>\n",
       "      <td>10.45934</td>\n",
       "      <td>12.69816</td>\n",
       "      <td>84.73147</td>\n",
       "    </tr>\n",
       "    <tr>\n",
       "      <th>2</th>\n",
       "      <td>61.21229</td>\n",
       "      <td>-13.70854</td>\n",
       "      <td>-5.43812</td>\n",
       "      <td>-2.17391</td>\n",
       "      <td>79.60354</td>\n",
       "    </tr>\n",
       "    <tr>\n",
       "      <th>3</th>\n",
       "      <td>67.87928</td>\n",
       "      <td>-11.65727</td>\n",
       "      <td>2.76696</td>\n",
       "      <td>6.03116</td>\n",
       "      <td>82.68020</td>\n",
       "    </tr>\n",
       "    <tr>\n",
       "      <th>4</th>\n",
       "      <td>73.00721</td>\n",
       "      <td>6.80416</td>\n",
       "      <td>9.94616</td>\n",
       "      <td>15.77482</td>\n",
       "      <td>89.34719</td>\n",
       "    </tr>\n",
       "    <tr>\n",
       "      <th>...</th>\n",
       "      <td>...</td>\n",
       "      <td>...</td>\n",
       "      <td>...</td>\n",
       "      <td>...</td>\n",
       "      <td>...</td>\n",
       "    </tr>\n",
       "    <tr>\n",
       "      <th>316795</th>\n",
       "      <td>208.98768</td>\n",
       "      <td>-10.78991</td>\n",
       "      <td>2.90862</td>\n",
       "      <td>4.54674</td>\n",
       "      <td>177.70769</td>\n",
       "    </tr>\n",
       "    <tr>\n",
       "      <th>316796</th>\n",
       "      <td>185.39784</td>\n",
       "      <td>-16.94371</td>\n",
       "      <td>5.47259</td>\n",
       "      <td>10.70055</td>\n",
       "      <td>164.88738</td>\n",
       "    </tr>\n",
       "    <tr>\n",
       "      <th>316797</th>\n",
       "      <td>179.24403</td>\n",
       "      <td>-0.53356</td>\n",
       "      <td>-2.21979</td>\n",
       "      <td>15.82897</td>\n",
       "      <td>164.88738</td>\n",
       "    </tr>\n",
       "    <tr>\n",
       "      <th>316798</th>\n",
       "      <td>192.57753</td>\n",
       "      <td>7.67152</td>\n",
       "      <td>-11.45026</td>\n",
       "      <td>5.05943</td>\n",
       "      <td>181.29754</td>\n",
       "    </tr>\n",
       "    <tr>\n",
       "      <th>316799</th>\n",
       "      <td>178.73133</td>\n",
       "      <td>-4.63610</td>\n",
       "      <td>-3.24518</td>\n",
       "      <td>-1.60707</td>\n",
       "      <td>163.34881</td>\n",
       "    </tr>\n",
       "  </tbody>\n",
       "</table>\n",
       "<p>316800 rows × 5 columns</p>\n",
       "</div>"
      ],
      "text/plain": [
       "          EEG.AF3    EEG.T7    EEG.Pz    EEG.T8    EEG.AF4\n",
       "0        77.10975 -13.70854   6.35680  20.90323   85.75735\n",
       "1        68.90467  -9.60600  10.45934  12.69816   84.73147\n",
       "2        61.21229 -13.70854  -5.43812  -2.17391   79.60354\n",
       "3        67.87928 -11.65727   2.76696   6.03116   82.68020\n",
       "4        73.00721   6.80416   9.94616  15.77482   89.34719\n",
       "...           ...       ...       ...       ...        ...\n",
       "316795  208.98768 -10.78991   2.90862   4.54674  177.70769\n",
       "316796  185.39784 -16.94371   5.47259  10.70055  164.88738\n",
       "316797  179.24403  -0.53356  -2.21979  15.82897  164.88738\n",
       "316798  192.57753   7.67152 -11.45026   5.05943  181.29754\n",
       "316799  178.73133  -4.63610  -3.24518  -1.60707  163.34881\n",
       "\n",
       "[316800 rows x 5 columns]"
      ]
     },
     "execution_count": 32,
     "metadata": {},
     "output_type": "execute_result"
    }
   ],
   "source": [
    "# Display the combined DataFrame\n",
    "False_df"
   ]
  },
  {
   "cell_type": "code",
   "execution_count": 34,
   "id": "7e84bf7e",
   "metadata": {},
   "outputs": [
    {
     "data": {
      "image/png": "[encoded data removed]",
      "text/plain": [
       "<Figure size 720x432 with 1 Axes>"
      ]
     },
     "metadata": {
      "needs_background": "light"
     },
     "output_type": "display_data"
    }
   ],
   "source": [
    "# Calculate the sum of values for each named column\n",
    "sum_values = False_df.sum()\n",
    "\n",
    "# Plot the barcode\n",
    "plt.figure(figsize=(10, 6))\n",
    "plt.bar(sum_values.index, sum_values.values, color='blue')\n",
    "plt.xlabel('Columns')\n",
    "plt.ylabel('Sum of Values')\n",
    "plt.title('Sum of False Values')\n",
    "plt.xticks(rotation=45)\n",
    "plt.grid(axis='y', linestyle='--', alpha=0.7)\n",
    "plt.tight_layout()\n",
    "plt.show()"
   ]
  },
  {
   "cell_type": "code",
   "execution_count": 68,
   "id": "3f0d2a3c",
   "metadata": {},
   "outputs": [
    {
     "data": {
      "image/png": "[encoded data removed]",
      "text/plain": [
       "<Figure size 1080x432 with 2 Axes>"
      ]
     },
     "metadata": {
      "needs_background": "light"
     },
     "output_type": "display_data"
    }
   ],
   "source": [
    "# Create subplots\n",
    "fig, axes = plt.subplots(1, 2, figsize=(15, 6))\n",
    "\n",
    "# Plot for Truth DataFrame\n",
    "sum_values_truth = Truth_df.sum()\n",
    "axes[0].bar(sum_values_truth.index, sum_values_truth.values, color='blue')\n",
    "axes[0].set_xlabel('Columns')\n",
    "axes[0].set_ylabel('Sum of Values')\n",
    "axes[0].set_title('Truth Datset')\n",
    "axes[0].tick_params(axis='x', rotation=45)\n",
    "axes[0].grid(axis='y', linestyle='--', alpha=0.7)\n",
    "\n",
    "# Plot for False DataFrame\n",
    "sum_values_false = False_df.sum()\n",
    "axes[1].bar(sum_values_false.index, sum_values_false.values, color='blue')\n",
    "axes[1].set_xlabel('Columns')\n",
    "axes[1].set_ylabel('Sum of Values')\n",
    "axes[1].set_title('False Dataset')\n",
    "axes[1].tick_params(axis='x', rotation=45)\n",
    "axes[1].grid(axis='y', linestyle='--', alpha=0.7)\n",
    "\n",
    "plt.tight_layout()\n",
    "plt.show()"
   ]
  },
  {
   "cell_type": "markdown",
   "id": "7af07322",
   "metadata": {},
   "source": [
    "Truth EDA"
   ]
  },
  {
   "cell_type": "code",
   "execution_count": 38,
   "id": "8f791e09",
   "metadata": {},
   "outputs": [
    {
     "data": {
      "text/html": [
       "<div>\n",
       "<style scoped>\n",
       "    .dataframe tbody tr th:only-of-type {\n",
       "        vertical-align: middle;\n",
       "    }\n",
       "\n",
       "    .dataframe tbody tr th {\n",
       "        vertical-align: top;\n",
       "    }\n",
       "\n",
       "    .dataframe thead th {\n",
       "        text-align: right;\n",
       "    }\n",
       "</style>\n",
       "<table border=\"1\" class=\"dataframe\">\n",
       "  <thead>\n",
       "    <tr style=\"text-align: right;\">\n",
       "      <th></th>\n",
       "      <th>EEG.AF3</th>\n",
       "      <th>EEG.T7</th>\n",
       "      <th>EEG.Pz</th>\n",
       "      <th>EEG.T8</th>\n",
       "      <th>EEG.AF4</th>\n",
       "    </tr>\n",
       "  </thead>\n",
       "  <tbody>\n",
       "    <tr>\n",
       "      <th>0</th>\n",
       "      <td>24.98630</td>\n",
       "      <td>-26.45282</td>\n",
       "      <td>4.75641</td>\n",
       "      <td>-22.87943</td>\n",
       "      <td>43.64128</td>\n",
       "    </tr>\n",
       "    <tr>\n",
       "      <th>1</th>\n",
       "      <td>21.90964</td>\n",
       "      <td>-38.76044</td>\n",
       "      <td>13.98688</td>\n",
       "      <td>-19.80229</td>\n",
       "      <td>38.51335</td>\n",
       "    </tr>\n",
       "    <tr>\n",
       "      <th>2</th>\n",
       "      <td>14.72996</td>\n",
       "      <td>-46.96600</td>\n",
       "      <td>4.24323</td>\n",
       "      <td>-20.82816</td>\n",
       "      <td>37.48747</td>\n",
       "    </tr>\n",
       "    <tr>\n",
       "      <th>3</th>\n",
       "      <td>21.39646</td>\n",
       "      <td>-49.01727</td>\n",
       "      <td>10.39703</td>\n",
       "      <td>-34.16166</td>\n",
       "      <td>51.84636</td>\n",
       "    </tr>\n",
       "    <tr>\n",
       "      <th>4</th>\n",
       "      <td>18.31980</td>\n",
       "      <td>-59.27362</td>\n",
       "      <td>2.70514</td>\n",
       "      <td>-43.39213</td>\n",
       "      <td>41.07731</td>\n",
       "    </tr>\n",
       "  </tbody>\n",
       "</table>\n",
       "</div>"
      ],
      "text/plain": [
       "    EEG.AF3    EEG.T7    EEG.Pz    EEG.T8   EEG.AF4\n",
       "0  24.98630 -26.45282   4.75641 -22.87943  43.64128\n",
       "1  21.90964 -38.76044  13.98688 -19.80229  38.51335\n",
       "2  14.72996 -46.96600   4.24323 -20.82816  37.48747\n",
       "3  21.39646 -49.01727  10.39703 -34.16166  51.84636\n",
       "4  18.31980 -59.27362   2.70514 -43.39213  41.07731"
      ]
     },
     "execution_count": 38,
     "metadata": {},
     "output_type": "execute_result"
    }
   ],
   "source": [
    "#view first five role\n",
    "Truth_df.head()"
   ]
  },
  {
   "cell_type": "code",
   "execution_count": 39,
   "id": "1f318899",
   "metadata": {},
   "outputs": [
    {
     "data": {
      "text/html": [
       "<div>\n",
       "<style scoped>\n",
       "    .dataframe tbody tr th:only-of-type {\n",
       "        vertical-align: middle;\n",
       "    }\n",
       "\n",
       "    .dataframe tbody tr th {\n",
       "        vertical-align: top;\n",
       "    }\n",
       "\n",
       "    .dataframe thead th {\n",
       "        text-align: right;\n",
       "    }\n",
       "</style>\n",
       "<table border=\"1\" class=\"dataframe\">\n",
       "  <thead>\n",
       "    <tr style=\"text-align: right;\">\n",
       "      <th></th>\n",
       "      <th>EEG.AF3</th>\n",
       "      <th>EEG.T7</th>\n",
       "      <th>EEG.Pz</th>\n",
       "      <th>EEG.T8</th>\n",
       "      <th>EEG.AF4</th>\n",
       "    </tr>\n",
       "  </thead>\n",
       "  <tbody>\n",
       "    <tr>\n",
       "      <th>count</th>\n",
       "      <td>3.168000e+05</td>\n",
       "      <td>3.168000e+05</td>\n",
       "      <td>3.168000e+05</td>\n",
       "      <td>3.168000e+05</td>\n",
       "      <td>3.168000e+05</td>\n",
       "    </tr>\n",
       "    <tr>\n",
       "      <th>mean</th>\n",
       "      <td>-4.302399e-08</td>\n",
       "      <td>-3.636364e-08</td>\n",
       "      <td>-4.163510e-08</td>\n",
       "      <td>-1.005366e-07</td>\n",
       "      <td>-2.670455e-08</td>\n",
       "    </tr>\n",
       "    <tr>\n",
       "      <th>std</th>\n",
       "      <td>1.374699e+02</td>\n",
       "      <td>4.077950e+01</td>\n",
       "      <td>3.238392e+01</td>\n",
       "      <td>3.806657e+01</td>\n",
       "      <td>7.370736e+01</td>\n",
       "    </tr>\n",
       "    <tr>\n",
       "      <th>min</th>\n",
       "      <td>-3.457651e+03</td>\n",
       "      <td>-1.044141e+03</td>\n",
       "      <td>-1.062102e+03</td>\n",
       "      <td>-1.071789e+03</td>\n",
       "      <td>-1.056268e+03</td>\n",
       "    </tr>\n",
       "    <tr>\n",
       "      <th>25%</th>\n",
       "      <td>-3.367983e+01</td>\n",
       "      <td>-1.622773e+01</td>\n",
       "      <td>-1.377349e+01</td>\n",
       "      <td>-1.524564e+01</td>\n",
       "      <td>-3.232229e+01</td>\n",
       "    </tr>\n",
       "    <tr>\n",
       "      <th>50%</th>\n",
       "      <td>-9.064110e+00</td>\n",
       "      <td>-4.903900e-01</td>\n",
       "      <td>-2.374500e-01</td>\n",
       "      <td>-3.441400e-01</td>\n",
       "      <td>-9.038090e+00</td>\n",
       "    </tr>\n",
       "    <tr>\n",
       "      <th>75%</th>\n",
       "      <td>1.543395e+01</td>\n",
       "      <td>1.517727e+01</td>\n",
       "      <td>1.322326e+01</td>\n",
       "      <td>1.455660e+01</td>\n",
       "      <td>1.360521e+01</td>\n",
       "    </tr>\n",
       "    <tr>\n",
       "      <th>max</th>\n",
       "      <td>3.641324e+03</td>\n",
       "      <td>9.882961e+02</td>\n",
       "      <td>3.948401e+02</td>\n",
       "      <td>8.360543e+02</td>\n",
       "      <td>1.158301e+03</td>\n",
       "    </tr>\n",
       "  </tbody>\n",
       "</table>\n",
       "</div>"
      ],
      "text/plain": [
       "            EEG.AF3        EEG.T7        EEG.Pz        EEG.T8       EEG.AF4\n",
       "count  3.168000e+05  3.168000e+05  3.168000e+05  3.168000e+05  3.168000e+05\n",
       "mean  -4.302399e-08 -3.636364e-08 -4.163510e-08 -1.005366e-07 -2.670455e-08\n",
       "std    1.374699e+02  4.077950e+01  3.238392e+01  3.806657e+01  7.370736e+01\n",
       "min   -3.457651e+03 -1.044141e+03 -1.062102e+03 -1.071789e+03 -1.056268e+03\n",
       "25%   -3.367983e+01 -1.622773e+01 -1.377349e+01 -1.524564e+01 -3.232229e+01\n",
       "50%   -9.064110e+00 -4.903900e-01 -2.374500e-01 -3.441400e-01 -9.038090e+00\n",
       "75%    1.543395e+01  1.517727e+01  1.322326e+01  1.455660e+01  1.360521e+01\n",
       "max    3.641324e+03  9.882961e+02  3.948401e+02  8.360543e+02  1.158301e+03"
      ]
     },
     "execution_count": 39,
     "metadata": {},
     "output_type": "execute_result"
    }
   ],
   "source": [
    "#Check statistic info\n",
    "Truth_df.describe()"
   ]
  },
  {
   "cell_type": "code",
   "execution_count": 40,
   "id": "6e275189",
   "metadata": {},
   "outputs": [
    {
     "data": {
      "text/plain": [
       "False"
      ]
     },
     "execution_count": 40,
     "metadata": {},
     "output_type": "execute_result"
    }
   ],
   "source": [
    "#check if dataset is empty\n",
    "Truth_df.empty"
   ]
  },
  {
   "cell_type": "code",
   "execution_count": 41,
   "id": "a4692364",
   "metadata": {},
   "outputs": [
    {
     "name": "stdout",
     "output_type": "stream",
     "text": [
      "EEG.AF3    float64\n",
      "EEG.T7     float64\n",
      "EEG.Pz     float64\n",
      "EEG.T8     float64\n",
      "EEG.AF4    float64\n",
      "dtype: object\n"
     ]
    }
   ],
   "source": [
    "#Check data type\n",
    "print(Truth_df.dtypes)"
   ]
  },
  {
   "cell_type": "code",
   "execution_count": 42,
   "id": "7b457c41",
   "metadata": {},
   "outputs": [
    {
     "name": "stdout",
     "output_type": "stream",
     "text": [
      "EEG.AF3    0\n",
      "EEG.T7     0\n",
      "EEG.Pz     0\n",
      "EEG.T8     0\n",
      "EEG.AF4    0\n",
      "dtype: int64\n"
     ]
    }
   ],
   "source": [
    "#Check for null values\n",
    "print(Truth_df.isnull().sum())"
   ]
  },
  {
   "cell_type": "markdown",
   "id": "717fce5e",
   "metadata": {},
   "source": [
    "Add a new column \"Result\" to Truth; as Truth = 1"
   ]
  },
  {
   "cell_type": "code",
   "execution_count": 43,
   "id": "b2090504",
   "metadata": {},
   "outputs": [],
   "source": [
    "# Adding a new column named 'Numerical_Column' filled with the value 1\n",
    "Truth_df['Outcome'] = 1"
   ]
  },
  {
   "cell_type": "code",
   "execution_count": 44,
   "id": "69e6ca46",
   "metadata": {},
   "outputs": [
    {
     "data": {
      "text/html": [
       "<div>\n",
       "<style scoped>\n",
       "    .dataframe tbody tr th:only-of-type {\n",
       "        vertical-align: middle;\n",
       "    }\n",
       "\n",
       "    .dataframe tbody tr th {\n",
       "        vertical-align: top;\n",
       "    }\n",
       "\n",
       "    .dataframe thead th {\n",
       "        text-align: right;\n",
       "    }\n",
       "</style>\n",
       "<table border=\"1\" class=\"dataframe\">\n",
       "  <thead>\n",
       "    <tr style=\"text-align: right;\">\n",
       "      <th></th>\n",
       "      <th>EEG.AF3</th>\n",
       "      <th>EEG.T7</th>\n",
       "      <th>EEG.Pz</th>\n",
       "      <th>EEG.T8</th>\n",
       "      <th>EEG.AF4</th>\n",
       "      <th>Outcome</th>\n",
       "    </tr>\n",
       "  </thead>\n",
       "  <tbody>\n",
       "    <tr>\n",
       "      <th>0</th>\n",
       "      <td>24.98630</td>\n",
       "      <td>-26.45282</td>\n",
       "      <td>4.75641</td>\n",
       "      <td>-22.87943</td>\n",
       "      <td>43.64128</td>\n",
       "      <td>1</td>\n",
       "    </tr>\n",
       "    <tr>\n",
       "      <th>1</th>\n",
       "      <td>21.90964</td>\n",
       "      <td>-38.76044</td>\n",
       "      <td>13.98688</td>\n",
       "      <td>-19.80229</td>\n",
       "      <td>38.51335</td>\n",
       "      <td>1</td>\n",
       "    </tr>\n",
       "    <tr>\n",
       "      <th>2</th>\n",
       "      <td>14.72996</td>\n",
       "      <td>-46.96600</td>\n",
       "      <td>4.24323</td>\n",
       "      <td>-20.82816</td>\n",
       "      <td>37.48747</td>\n",
       "      <td>1</td>\n",
       "    </tr>\n",
       "    <tr>\n",
       "      <th>3</th>\n",
       "      <td>21.39646</td>\n",
       "      <td>-49.01727</td>\n",
       "      <td>10.39703</td>\n",
       "      <td>-34.16166</td>\n",
       "      <td>51.84636</td>\n",
       "      <td>1</td>\n",
       "    </tr>\n",
       "    <tr>\n",
       "      <th>4</th>\n",
       "      <td>18.31980</td>\n",
       "      <td>-59.27362</td>\n",
       "      <td>2.70514</td>\n",
       "      <td>-43.39213</td>\n",
       "      <td>41.07731</td>\n",
       "      <td>1</td>\n",
       "    </tr>\n",
       "  </tbody>\n",
       "</table>\n",
       "</div>"
      ],
      "text/plain": [
       "    EEG.AF3    EEG.T7    EEG.Pz    EEG.T8   EEG.AF4  Outcome\n",
       "0  24.98630 -26.45282   4.75641 -22.87943  43.64128        1\n",
       "1  21.90964 -38.76044  13.98688 -19.80229  38.51335        1\n",
       "2  14.72996 -46.96600   4.24323 -20.82816  37.48747        1\n",
       "3  21.39646 -49.01727  10.39703 -34.16166  51.84636        1\n",
       "4  18.31980 -59.27362   2.70514 -43.39213  41.07731        1"
      ]
     },
     "execution_count": 44,
     "metadata": {},
     "output_type": "execute_result"
    }
   ],
   "source": [
    "Truth_df.head()"
   ]
  },
  {
   "cell_type": "code",
   "execution_count": 54,
   "id": "02085e48",
   "metadata": {},
   "outputs": [
    {
     "data": {
      "image/png": "[encoded data removed]",
      "text/plain": [
       "<Figure size 720x432 with 1 Axes>"
      ]
     },
     "metadata": {
      "needs_background": "light"
     },
     "output_type": "display_data"
    }
   ],
   "source": [
    "# Calculate the sum of values for each column\n",
    "sum_values = Truth_df.sum()\n",
    "\n",
    "# Normalize the sum of values\n",
    "scaler = MinMaxScaler(feature_range=(-1, 1))\n",
    "sum_values_normalized = scaler.fit_transform(sum_values.values.reshape(-1, 1)).flatten()\n",
    "\n",
    "# Plot the barcode\n",
    "plt.figure(figsize=(10, 6))\n",
    "plt.bar(sum_values.index, sum_values_normalized, color=plt.cm.coolwarm(np.linspace(0, 1, len(sum_values))))\n",
    "plt.xlabel('Columns')\n",
    "plt.ylabel('Normalized Sum of Values')\n",
    "plt.title('Truth Dataset')\n",
    "plt.xticks(rotation=45)\n",
    "plt.grid(axis='y', linestyle='--', alpha=0.7)\n",
    "plt.tight_layout()\n",
    "plt.show()"
   ]
  },
  {
   "cell_type": "code",
   "execution_count": 55,
   "id": "b899f6a5",
   "metadata": {},
   "outputs": [
    {
     "name": "stdout",
     "output_type": "stream",
     "text": [
      "          EEG.AF3    EEG.T7    EEG.Pz    EEG.T8   EEG.AF4  Outcome\n",
      "EEG.AF3  1.000000  0.177537  0.281417  0.236492  0.568898      NaN\n",
      "EEG.T7   0.177537  1.000000  0.609247  0.540962  0.357439      NaN\n",
      "EEG.Pz   0.281417  0.609247  1.000000  0.718150  0.502312      NaN\n",
      "EEG.T8   0.236492  0.540962  0.718150  1.000000  0.465931      NaN\n",
      "EEG.AF4  0.568898  0.357439  0.502312  0.465931  1.000000      NaN\n",
      "Outcome       NaN       NaN       NaN       NaN       NaN      NaN\n"
     ]
    }
   ],
   "source": [
    "Tcorrelation_matrix = Truth_df.corr()\n",
    "print(Tcorrelation_matrix)"
   ]
  },
  {
   "cell_type": "code",
   "execution_count": 56,
   "id": "335f161c",
   "metadata": {},
   "outputs": [
    {
     "data": {
      "image/png": "[encoded data removed]",
      "text/plain": [
       "<Figure size 720x576 with 2 Axes>"
      ]
     },
     "metadata": {
      "needs_background": "light"
     },
     "output_type": "display_data"
    }
   ],
   "source": [
    "# Plot heatmap of correlation matrix\n",
    "plt.figure(figsize=(10, 8))\n",
    "sns.heatmap(Tcorrelation_matrix, annot=True, cmap='coolwarm', fmt=\".2f\")\n",
    "plt.title('Truth Correlation Matrix')\n",
    "plt.show()"
   ]
  },
  {
   "cell_type": "code",
   "execution_count": 57,
   "id": "76817730",
   "metadata": {},
   "outputs": [
    {
     "data": {
      "image/png": "[encoded data removed]",
      "text/plain": [
       "<Figure size 720x432 with 1 Axes>"
      ]
     },
     "metadata": {
      "needs_background": "light"
     },
     "output_type": "display_data"
    }
   ],
   "source": [
    "# Assuming artifact_free_signal is a one-dimensional array\n",
    "plt.figure(figsize=(10, 6))\n",
    "plt.plot(Truth_df, color='blue')\n",
    "plt.xlabel('Time (samples)')\n",
    "plt.ylabel('Amplitude')\n",
    "plt.title('Truth EEG Signal')\n",
    "plt.grid(True)\n",
    "plt.tight_layout()\n",
    "plt.show()"
   ]
  },
  {
   "cell_type": "markdown",
   "id": "ed2c458e",
   "metadata": {},
   "source": [
    "False EDA"
   ]
  },
  {
   "cell_type": "code",
   "execution_count": 58,
   "id": "713f2760",
   "metadata": {},
   "outputs": [
    {
     "data": {
      "text/html": [
       "<div>\n",
       "<style scoped>\n",
       "    .dataframe tbody tr th:only-of-type {\n",
       "        vertical-align: middle;\n",
       "    }\n",
       "\n",
       "    .dataframe tbody tr th {\n",
       "        vertical-align: top;\n",
       "    }\n",
       "\n",
       "    .dataframe thead th {\n",
       "        text-align: right;\n",
       "    }\n",
       "</style>\n",
       "<table border=\"1\" class=\"dataframe\">\n",
       "  <thead>\n",
       "    <tr style=\"text-align: right;\">\n",
       "      <th></th>\n",
       "      <th>EEG.AF3</th>\n",
       "      <th>EEG.T7</th>\n",
       "      <th>EEG.Pz</th>\n",
       "      <th>EEG.T8</th>\n",
       "      <th>EEG.AF4</th>\n",
       "    </tr>\n",
       "  </thead>\n",
       "  <tbody>\n",
       "    <tr>\n",
       "      <th>0</th>\n",
       "      <td>77.10975</td>\n",
       "      <td>-13.70854</td>\n",
       "      <td>6.35680</td>\n",
       "      <td>20.90323</td>\n",
       "      <td>85.75735</td>\n",
       "    </tr>\n",
       "    <tr>\n",
       "      <th>1</th>\n",
       "      <td>68.90467</td>\n",
       "      <td>-9.60600</td>\n",
       "      <td>10.45934</td>\n",
       "      <td>12.69816</td>\n",
       "      <td>84.73147</td>\n",
       "    </tr>\n",
       "    <tr>\n",
       "      <th>2</th>\n",
       "      <td>61.21229</td>\n",
       "      <td>-13.70854</td>\n",
       "      <td>-5.43812</td>\n",
       "      <td>-2.17391</td>\n",
       "      <td>79.60354</td>\n",
       "    </tr>\n",
       "    <tr>\n",
       "      <th>3</th>\n",
       "      <td>67.87928</td>\n",
       "      <td>-11.65727</td>\n",
       "      <td>2.76696</td>\n",
       "      <td>6.03116</td>\n",
       "      <td>82.68020</td>\n",
       "    </tr>\n",
       "    <tr>\n",
       "      <th>4</th>\n",
       "      <td>73.00721</td>\n",
       "      <td>6.80416</td>\n",
       "      <td>9.94616</td>\n",
       "      <td>15.77482</td>\n",
       "      <td>89.34719</td>\n",
       "    </tr>\n",
       "  </tbody>\n",
       "</table>\n",
       "</div>"
      ],
      "text/plain": [
       "    EEG.AF3    EEG.T7    EEG.Pz    EEG.T8   EEG.AF4\n",
       "0  77.10975 -13.70854   6.35680  20.90323  85.75735\n",
       "1  68.90467  -9.60600  10.45934  12.69816  84.73147\n",
       "2  61.21229 -13.70854  -5.43812  -2.17391  79.60354\n",
       "3  67.87928 -11.65727   2.76696   6.03116  82.68020\n",
       "4  73.00721   6.80416   9.94616  15.77482  89.34719"
      ]
     },
     "execution_count": 58,
     "metadata": {},
     "output_type": "execute_result"
    }
   ],
   "source": [
    "#view first five role\n",
    "False_df.head()"
   ]
  },
  {
   "cell_type": "code",
   "execution_count": 59,
   "id": "04175141",
   "metadata": {},
   "outputs": [
    {
     "data": {
      "text/html": [
       "<div>\n",
       "<style scoped>\n",
       "    .dataframe tbody tr th:only-of-type {\n",
       "        vertical-align: middle;\n",
       "    }\n",
       "\n",
       "    .dataframe tbody tr th {\n",
       "        vertical-align: top;\n",
       "    }\n",
       "\n",
       "    .dataframe thead th {\n",
       "        text-align: right;\n",
       "    }\n",
       "</style>\n",
       "<table border=\"1\" class=\"dataframe\">\n",
       "  <thead>\n",
       "    <tr style=\"text-align: right;\">\n",
       "      <th></th>\n",
       "      <th>EEG.AF3</th>\n",
       "      <th>EEG.T7</th>\n",
       "      <th>EEG.Pz</th>\n",
       "      <th>EEG.T8</th>\n",
       "      <th>EEG.AF4</th>\n",
       "    </tr>\n",
       "  </thead>\n",
       "  <tbody>\n",
       "    <tr>\n",
       "      <th>count</th>\n",
       "      <td>3.168000e+05</td>\n",
       "      <td>3.168000e+05</td>\n",
       "      <td>3.168000e+05</td>\n",
       "      <td>3.168000e+05</td>\n",
       "      <td>3.168000e+05</td>\n",
       "    </tr>\n",
       "    <tr>\n",
       "      <th>mean</th>\n",
       "      <td>-3.301768e-08</td>\n",
       "      <td>-6.029040e-08</td>\n",
       "      <td>2.986111e-08</td>\n",
       "      <td>1.890783e-08</td>\n",
       "      <td>2.244318e-08</td>\n",
       "    </tr>\n",
       "    <tr>\n",
       "      <th>std</th>\n",
       "      <td>9.651036e+01</td>\n",
       "      <td>6.686120e+01</td>\n",
       "      <td>6.809438e+01</td>\n",
       "      <td>6.930604e+01</td>\n",
       "      <td>9.906133e+01</td>\n",
       "    </tr>\n",
       "    <tr>\n",
       "      <th>min</th>\n",
       "      <td>-8.490890e+02</td>\n",
       "      <td>-7.638269e+02</td>\n",
       "      <td>-7.733782e+02</td>\n",
       "      <td>-7.643644e+02</td>\n",
       "      <td>-7.597006e+02</td>\n",
       "    </tr>\n",
       "    <tr>\n",
       "      <th>25%</th>\n",
       "      <td>-3.759035e+01</td>\n",
       "      <td>-1.499285e+01</td>\n",
       "      <td>-1.497397e+01</td>\n",
       "      <td>-1.518782e+01</td>\n",
       "      <td>-3.762420e+01</td>\n",
       "    </tr>\n",
       "    <tr>\n",
       "      <th>50%</th>\n",
       "      <td>-1.191884e+01</td>\n",
       "      <td>-6.973800e-01</td>\n",
       "      <td>-2.440100e-01</td>\n",
       "      <td>-5.390000e-03</td>\n",
       "      <td>-1.134209e+01</td>\n",
       "    </tr>\n",
       "    <tr>\n",
       "      <th>75%</th>\n",
       "      <td>1.526036e+01</td>\n",
       "      <td>1.450259e+01</td>\n",
       "      <td>1.486579e+01</td>\n",
       "      <td>1.533085e+01</td>\n",
       "      <td>1.553507e+01</td>\n",
       "    </tr>\n",
       "    <tr>\n",
       "      <th>max</th>\n",
       "      <td>3.273475e+03</td>\n",
       "      <td>3.547968e+03</td>\n",
       "      <td>3.534827e+03</td>\n",
       "      <td>3.528969e+03</td>\n",
       "      <td>3.531581e+03</td>\n",
       "    </tr>\n",
       "  </tbody>\n",
       "</table>\n",
       "</div>"
      ],
      "text/plain": [
       "            EEG.AF3        EEG.T7        EEG.Pz        EEG.T8       EEG.AF4\n",
       "count  3.168000e+05  3.168000e+05  3.168000e+05  3.168000e+05  3.168000e+05\n",
       "mean  -3.301768e-08 -6.029040e-08  2.986111e-08  1.890783e-08  2.244318e-08\n",
       "std    9.651036e+01  6.686120e+01  6.809438e+01  6.930604e+01  9.906133e+01\n",
       "min   -8.490890e+02 -7.638269e+02 -7.733782e+02 -7.643644e+02 -7.597006e+02\n",
       "25%   -3.759035e+01 -1.499285e+01 -1.497397e+01 -1.518782e+01 -3.762420e+01\n",
       "50%   -1.191884e+01 -6.973800e-01 -2.440100e-01 -5.390000e-03 -1.134209e+01\n",
       "75%    1.526036e+01  1.450259e+01  1.486579e+01  1.533085e+01  1.553507e+01\n",
       "max    3.273475e+03  3.547968e+03  3.534827e+03  3.528969e+03  3.531581e+03"
      ]
     },
     "execution_count": 59,
     "metadata": {},
     "output_type": "execute_result"
    }
   ],
   "source": [
    "False_df.describe()"
   ]
  },
  {
   "cell_type": "code",
   "execution_count": 60,
   "id": "e066ea09",
   "metadata": {},
   "outputs": [
    {
     "data": {
      "text/plain": [
       "EEG.AF3    float64\n",
       "EEG.T7     float64\n",
       "EEG.Pz     float64\n",
       "EEG.T8     float64\n",
       "EEG.AF4    float64\n",
       "dtype: object"
      ]
     },
     "execution_count": 60,
     "metadata": {},
     "output_type": "execute_result"
    }
   ],
   "source": [
    "False_df.dtypes"
   ]
  },
  {
   "cell_type": "code",
   "execution_count": 61,
   "id": "f570e914",
   "metadata": {},
   "outputs": [
    {
     "data": {
      "text/plain": [
       "EEG.AF3    0\n",
       "EEG.T7     0\n",
       "EEG.Pz     0\n",
       "EEG.T8     0\n",
       "EEG.AF4    0\n",
       "dtype: int64"
      ]
     },
     "execution_count": 61,
     "metadata": {},
     "output_type": "execute_result"
    }
   ],
   "source": [
    "False_df.isnull().sum()"
   ]
  },
  {
   "cell_type": "code",
   "execution_count": 62,
   "id": "3e39fca2",
   "metadata": {},
   "outputs": [],
   "source": [
    "# Adding a new column named 'Numerical_Column' filled with the value 0\n",
    "False_df['Outcome'] = 0"
   ]
  },
  {
   "cell_type": "code",
   "execution_count": 66,
   "id": "70c551e7",
   "metadata": {},
   "outputs": [
    {
     "data": {
      "image/png": "[encoded data removed]",
      "text/plain": [
       "<Figure size 720x432 with 1 Axes>"
      ]
     },
     "metadata": {
      "needs_background": "light"
     },
     "output_type": "display_data"
    }
   ],
   "source": [
    "# Calculate the sum of values for each column\n",
    "sum_values = False_df.sum()\n",
    "\n",
    "# Normalize the sum of values\n",
    "scaler = MinMaxScaler(feature_range=(-1, 1))\n",
    "sum_values_normalized = scaler.fit_transform(sum_values.values.reshape(-1, 1)).flatten()\n",
    "\n",
    "# Plot the barcode\n",
    "plt.figure(figsize=(10, 6))\n",
    "plt.bar(sum_values.index, sum_values_normalized, color=plt.cm.coolwarm(np.linspace(0, 1, len(sum_values))))\n",
    "plt.xlabel('Columns')\n",
    "plt.ylabel('Normalized Sum of Values')\n",
    "plt.title('False Dataset')\n",
    "plt.xticks(rotation=45)\n",
    "plt.grid(axis='y', linestyle='--', alpha=0.7)\n",
    "plt.tight_layout()\n",
    "plt.show()"
   ]
  },
  {
   "cell_type": "code",
   "execution_count": 67,
   "id": "e59a6986",
   "metadata": {},
   "outputs": [
    {
     "data": {
      "image/png": "[encoded data removed]",
      "text/plain": [
       "<Figure size 1080x432 with 2 Axes>"
      ]
     },
     "metadata": {
      "needs_background": "light"
     },
     "output_type": "display_data"
    }
   ],
   "source": [
    "def plot_barcode(ax, df, title):\n",
    "    # Calculate the sum of values for each column\n",
    "    sum_values = df.sum()\n",
    "\n",
    "    # Normalize the sum of values\n",
    "    scaler = MinMaxScaler(feature_range=(-1, 1))\n",
    "    sum_values_normalized = scaler.fit_transform(sum_values.values.reshape(-1, 1)).flatten()\n",
    "\n",
    "    # Plot the barcode\n",
    "    ax.bar(sum_values.index, sum_values_normalized, color=plt.cm.coolwarm(np.linspace(0, 1, len(sum_values))))\n",
    "    ax.set_xlabel('Columns')\n",
    "    ax.set_ylabel('Normalized Sum of Values')\n",
    "    ax.set_title(title)\n",
    "    ax.tick_params(axis='x', rotation=45)\n",
    "    ax.grid(axis='y', linestyle='--', alpha=0.7)\n",
    "\n",
    "# Create a figure and subplots\n",
    "fig, axes = plt.subplots(1, 2, figsize=(15, 6))\n",
    "\n",
    "# Plot barcode for \"Truth\" dataset\n",
    "plot_barcode(axes[0], Truth_df, 'Truth Dataset')\n",
    "\n",
    "# Plot barcode for \"False\" dataset\n",
    "plot_barcode(axes[1], False_df, 'False Dataset')\n",
    "\n",
    "plt.tight_layout()\n",
    "plt.show()"
   ]
  },
  {
   "cell_type": "code",
   "execution_count": 69,
   "id": "879f9b41",
   "metadata": {},
   "outputs": [
    {
     "name": "stdout",
     "output_type": "stream",
     "text": [
      "          EEG.AF3    EEG.T7    EEG.Pz    EEG.T8   EEG.AF4  Outcome\n",
      "EEG.AF3  1.000000  0.551584  0.566111  0.564539  0.893557      NaN\n",
      "EEG.T7   0.551584  1.000000  0.862742  0.853785  0.665885      NaN\n",
      "EEG.Pz   0.566111  0.862742  1.000000  0.858924  0.677711      NaN\n",
      "EEG.T8   0.564539  0.853785  0.858924  1.000000  0.685969      NaN\n",
      "EEG.AF4  0.893557  0.665885  0.677711  0.685969  1.000000      NaN\n",
      "Outcome       NaN       NaN       NaN       NaN       NaN      NaN\n"
     ]
    }
   ],
   "source": [
    "Fcorrelation_matrix = False_df.corr()\n",
    "print(Fcorrelation_matrix)"
   ]
  },
  {
   "cell_type": "code",
   "execution_count": 70,
   "id": "37a84ac7",
   "metadata": {},
   "outputs": [
    {
     "data": {
      "image/png": "[encoded data removed]",
      "text/plain": [
       "<Figure size 720x576 with 2 Axes>"
      ]
     },
     "metadata": {
      "needs_background": "light"
     },
     "output_type": "display_data"
    }
   ],
   "source": [
    "# Plot heatmap of correlation matrix\n",
    "plt.figure(figsize=(10, 8))\n",
    "sns.heatmap(Fcorrelation_matrix, annot=True, cmap='coolwarm', fmt=\".2f\")\n",
    "plt.title('False Correlation Matrix')\n",
    "plt.show()"
   ]
  },
  {
   "cell_type": "code",
   "execution_count": 71,
   "id": "cdf33c93",
   "metadata": {},
   "outputs": [
    {
     "data": {
      "image/png": "[encoded data removed]",
      "text/plain": [
       "<Figure size 720x432 with 1 Axes>"
      ]
     },
     "metadata": {
      "needs_background": "light"
     },
     "output_type": "display_data"
    }
   ],
   "source": [
    "# Assuming artifact_free_signal is a one-dimensional array\n",
    "plt.figure(figsize=(10, 6))\n",
    "plt.plot(False_df, color='blue')\n",
    "plt.xlabel('Time (samples)')\n",
    "plt.ylabel('Amplitude')\n",
    "plt.title('False EEG Signal')\n",
    "plt.grid(True)\n",
    "plt.tight_layout()\n",
    "plt.show()"
   ]
  },
  {
   "cell_type": "markdown",
   "id": "c8575376",
   "metadata": {},
   "source": [
    "Combine both Truth and False Data set into one dataset"
   ]
  },
  {
   "cell_type": "code",
   "execution_count": 72,
   "id": "e20b1ac5",
   "metadata": {},
   "outputs": [],
   "source": [
    "NewRawdf = pd.concat([Truth_df,False_df],ignore_index=True)"
   ]
  },
  {
   "cell_type": "code",
   "execution_count": 73,
   "id": "6eef78b8",
   "metadata": {},
   "outputs": [],
   "source": [
    "Mixdf = NewRawdf.sample(frac=1).reset_index(drop=True)"
   ]
  },
  {
   "cell_type": "code",
   "execution_count": 74,
   "id": "43391cd9",
   "metadata": {},
   "outputs": [
    {
     "data": {
      "text/html": [
       "<div>\n",
       "<style scoped>\n",
       "    .dataframe tbody tr th:only-of-type {\n",
       "        vertical-align: middle;\n",
       "    }\n",
       "\n",
       "    .dataframe tbody tr th {\n",
       "        vertical-align: top;\n",
       "    }\n",
       "\n",
       "    .dataframe thead th {\n",
       "        text-align: right;\n",
       "    }\n",
       "</style>\n",
       "<table border=\"1\" class=\"dataframe\">\n",
       "  <thead>\n",
       "    <tr style=\"text-align: right;\">\n",
       "      <th></th>\n",
       "      <th>EEG.AF3</th>\n",
       "      <th>EEG.T7</th>\n",
       "      <th>EEG.Pz</th>\n",
       "      <th>EEG.T8</th>\n",
       "      <th>EEG.AF4</th>\n",
       "      <th>Outcome</th>\n",
       "    </tr>\n",
       "  </thead>\n",
       "  <tbody>\n",
       "    <tr>\n",
       "      <th>0</th>\n",
       "      <td>36.28624</td>\n",
       "      <td>9.18428</td>\n",
       "      <td>3.28969</td>\n",
       "      <td>15.68579</td>\n",
       "      <td>37.92233</td>\n",
       "      <td>0</td>\n",
       "    </tr>\n",
       "    <tr>\n",
       "      <th>1</th>\n",
       "      <td>-11.81180</td>\n",
       "      <td>-16.44911</td>\n",
       "      <td>-17.99954</td>\n",
       "      <td>6.15980</td>\n",
       "      <td>-11.65265</td>\n",
       "      <td>1</td>\n",
       "    </tr>\n",
       "    <tr>\n",
       "      <th>2</th>\n",
       "      <td>-10.97920</td>\n",
       "      <td>-26.72787</td>\n",
       "      <td>-14.93785</td>\n",
       "      <td>-16.80810</td>\n",
       "      <td>-11.01051</td>\n",
       "      <td>1</td>\n",
       "    </tr>\n",
       "    <tr>\n",
       "      <th>3</th>\n",
       "      <td>-4.35071</td>\n",
       "      <td>-49.77480</td>\n",
       "      <td>20.85038</td>\n",
       "      <td>29.21425</td>\n",
       "      <td>0.65072</td>\n",
       "      <td>0</td>\n",
       "    </tr>\n",
       "    <tr>\n",
       "      <th>4</th>\n",
       "      <td>-57.99297</td>\n",
       "      <td>1.38687</td>\n",
       "      <td>-15.62221</td>\n",
       "      <td>-17.69947</td>\n",
       "      <td>-49.50852</td>\n",
       "      <td>1</td>\n",
       "    </tr>\n",
       "    <tr>\n",
       "      <th>...</th>\n",
       "      <td>...</td>\n",
       "      <td>...</td>\n",
       "      <td>...</td>\n",
       "      <td>...</td>\n",
       "      <td>...</td>\n",
       "      <td>...</td>\n",
       "    </tr>\n",
       "    <tr>\n",
       "      <th>633595</th>\n",
       "      <td>-21.40431</td>\n",
       "      <td>17.64820</td>\n",
       "      <td>14.64466</td>\n",
       "      <td>-6.09314</td>\n",
       "      <td>-40.67672</td>\n",
       "      <td>0</td>\n",
       "    </tr>\n",
       "    <tr>\n",
       "      <th>633596</th>\n",
       "      <td>-190.90209</td>\n",
       "      <td>-20.10102</td>\n",
       "      <td>-18.57941</td>\n",
       "      <td>-16.15423</td>\n",
       "      <td>-162.04524</td>\n",
       "      <td>1</td>\n",
       "    </tr>\n",
       "    <tr>\n",
       "      <th>633597</th>\n",
       "      <td>3.73159</td>\n",
       "      <td>13.60889</td>\n",
       "      <td>10.72432</td>\n",
       "      <td>22.30258</td>\n",
       "      <td>8.50419</td>\n",
       "      <td>0</td>\n",
       "    </tr>\n",
       "    <tr>\n",
       "      <th>633598</th>\n",
       "      <td>-42.69876</td>\n",
       "      <td>14.82124</td>\n",
       "      <td>-4.31396</td>\n",
       "      <td>18.20397</td>\n",
       "      <td>13.69873</td>\n",
       "      <td>0</td>\n",
       "    </tr>\n",
       "    <tr>\n",
       "      <th>633599</th>\n",
       "      <td>13.11862</td>\n",
       "      <td>-5.70641</td>\n",
       "      <td>-2.53109</td>\n",
       "      <td>9.00852</td>\n",
       "      <td>-2.72459</td>\n",
       "      <td>1</td>\n",
       "    </tr>\n",
       "  </tbody>\n",
       "</table>\n",
       "<p>633600 rows × 6 columns</p>\n",
       "</div>"
      ],
      "text/plain": [
       "          EEG.AF3    EEG.T7    EEG.Pz    EEG.T8    EEG.AF4  Outcome\n",
       "0        36.28624   9.18428   3.28969  15.68579   37.92233        0\n",
       "1       -11.81180 -16.44911 -17.99954   6.15980  -11.65265        1\n",
       "2       -10.97920 -26.72787 -14.93785 -16.80810  -11.01051        1\n",
       "3        -4.35071 -49.77480  20.85038  29.21425    0.65072        0\n",
       "4       -57.99297   1.38687 -15.62221 -17.69947  -49.50852        1\n",
       "...           ...       ...       ...       ...        ...      ...\n",
       "633595  -21.40431  17.64820  14.64466  -6.09314  -40.67672        0\n",
       "633596 -190.90209 -20.10102 -18.57941 -16.15423 -162.04524        1\n",
       "633597    3.73159  13.60889  10.72432  22.30258    8.50419        0\n",
       "633598  -42.69876  14.82124  -4.31396  18.20397   13.69873        0\n",
       "633599   13.11862  -5.70641  -2.53109   9.00852   -2.72459        1\n",
       "\n",
       "[633600 rows x 6 columns]"
      ]
     },
     "execution_count": 74,
     "metadata": {},
     "output_type": "execute_result"
    }
   ],
   "source": [
    "Mixdf"
   ]
  },
  {
   "cell_type": "code",
   "execution_count": 75,
   "id": "b25c27e1",
   "metadata": {},
   "outputs": [
    {
     "name": "stdout",
     "output_type": "stream",
     "text": [
      "[<bound method DataFrame.corr of           EEG.AF3    EEG.T7    EEG.Pz    EEG.T8    EEG.AF4  Outcome\n",
      "0        77.10975 -13.70854   6.35680  20.90323   85.75735        0\n",
      "1        68.90467  -9.60600  10.45934  12.69816   84.73147        0\n",
      "2        61.21229 -13.70854  -5.43812  -2.17391   79.60354        0\n",
      "3        67.87928 -11.65727   2.76696   6.03116   82.68020        0\n",
      "4        73.00721   6.80416   9.94616  15.77482   89.34719        0\n",
      "...           ...       ...       ...       ...        ...      ...\n",
      "316795  208.98768 -10.78991   2.90862   4.54674  177.70769        0\n",
      "316796  185.39784 -16.94371   5.47259  10.70055  164.88738        0\n",
      "316797  179.24403  -0.53356  -2.21979  15.82897  164.88738        0\n",
      "316798  192.57753   7.67152 -11.45026   5.05943  181.29754        0\n",
      "316799  178.73133  -4.63610  -3.24518  -1.60707  163.34881        0\n",
      "\n",
      "[316800 rows x 6 columns]>,           EEG.AF3    EEG.T7    EEG.Pz    EEG.T8   EEG.AF4  Outcome\n",
      "EEG.AF3  1.000000  0.177537  0.281417  0.236492  0.568898      NaN\n",
      "EEG.T7   0.177537  1.000000  0.609247  0.540962  0.357439      NaN\n",
      "EEG.Pz   0.281417  0.609247  1.000000  0.718150  0.502312      NaN\n",
      "EEG.T8   0.236492  0.540962  0.718150  1.000000  0.465931      NaN\n",
      "EEG.AF4  0.568898  0.357439  0.502312  0.465931  1.000000      NaN\n",
      "Outcome       NaN       NaN       NaN       NaN       NaN      NaN]\n"
     ]
    }
   ],
   "source": [
    "correlation_matrix = [False_df.corr,Truth_df.corr()]\n",
    "print(correlation_matrix)"
   ]
  },
  {
   "cell_type": "code",
   "execution_count": 76,
   "id": "2af8b846",
   "metadata": {},
   "outputs": [
    {
     "data": {
      "text/plain": [
       "(633600, 6)"
      ]
     },
     "execution_count": 76,
     "metadata": {},
     "output_type": "execute_result"
    }
   ],
   "source": [
    "Mixdf.shape"
   ]
  },
  {
   "cell_type": "code",
   "execution_count": 79,
   "id": "ff19308f",
   "metadata": {},
   "outputs": [
    {
     "data": {
      "image/png": "[encoded data removed]",
      "text/plain": [
       "<Figure size 720x432 with 6 Axes>"
      ]
     },
     "metadata": {
      "needs_background": "light"
     },
     "output_type": "display_data"
    }
   ],
   "source": [
    "import matplotlib.pyplot as plt\n",
    "\n",
    "# Assuming df is your DataFrame\n",
    "df.hist(figsize=(10, 6))\n",
    "plt.xlabel('Values')\n",
    "plt.ylabel('Frequency')\n",
    "plt.title('Histogram of DataFrame Columns')\n",
    "plt.show()\n"
   ]
  },
  {
   "cell_type": "code",
   "execution_count": 80,
   "id": "30bdb9f5",
   "metadata": {},
   "outputs": [
    {
     "data": {
      "image/png": "[encoded data removed]",
      "text/plain": [
       "<Figure size 720x432 with 1 Axes>"
      ]
     },
     "metadata": {
      "needs_background": "light"
     },
     "output_type": "display_data"
    }
   ],
   "source": [
    "import matplotlib.pyplot as plt\n",
    "\n",
    "# Assuming df is your DataFrame\n",
    "df.plot(figsize=(10, 6))\n",
    "plt.xlabel('Index')\n",
    "plt.ylabel('Values')\n",
    "plt.title('Line Plot of DataFrame')\n",
    "plt.show()"
   ]
  },
  {
   "cell_type": "code",
   "execution_count": 77,
   "id": "32343688",
   "metadata": {},
   "outputs": [
    {
     "data": {
      "image/png": "[encoded data removed]",
      "text/plain": [
       "<Figure size 720x432 with 1 Axes>"
      ]
     },
     "metadata": {
      "needs_background": "light"
     },
     "output_type": "display_data"
    }
   ],
   "source": [
    "# Plot the cleaned EEG signal\n",
    "plt.figure(figsize=(10, 6))\n",
    "plt.plot(NewRawdf)\n",
    "plt.xlabel('Time')\n",
    "plt.ylabel('Amplitude')\n",
    "plt.title('EEG Signal')\n",
    "plt.show()"
   ]
  },
  {
   "cell_type": "code",
   "execution_count": 51,
   "id": "f6ea3da0",
   "metadata": {},
   "outputs": [
    {
     "data": {
      "image/png": "[encoded data removed]",
      "text/plain": [
       "<Figure size 720x432 with 1 Axes>"
      ]
     },
     "metadata": {
      "needs_background": "light"
     },
     "output_type": "display_data"
    }
   ],
   "source": [
    "# Plot the cleaned EEG signal\n",
    "plt.figure(figsize=(10, 6))\n",
    "plt.plot(Mixdf)\n",
    "plt.xlabel('Time')\n",
    "plt.ylabel('Amplitude')\n",
    "plt.title('EEG Signal')\n",
    "plt.show()"
   ]
  },
  {
   "cell_type": "markdown",
   "id": "d69ddd4b",
   "metadata": {},
   "source": [
    "Remove outlayers"
   ]
  },
  {
   "cell_type": "code",
   "execution_count": 82,
   "id": "1be708c7",
   "metadata": {},
   "outputs": [
    {
     "name": "stdout",
     "output_type": "stream",
     "text": [
      "         EEG.AF3    EEG.T7    EEG.Pz    EEG.T8   EEG.AF4   Outcome\n",
      "0       0.305519  0.165848  0.061700  0.280543  0.434344 -0.999999\n",
      "1      -0.099452 -0.297035 -0.337590  0.110169 -0.133464  0.999999\n",
      "2      -0.092442 -0.482647 -0.280167 -0.300615 -0.126109  0.999999\n",
      "3      -0.036632 -0.898824  0.391059  0.522501  0.007453 -0.999999\n",
      "4      -0.488283  0.025044 -0.293002 -0.316557 -0.567046  0.999999\n",
      "...          ...       ...       ...       ...       ...       ...\n",
      "633595 -0.180218  0.318688  0.274668 -0.108977 -0.465891 -0.999999\n",
      "633596 -1.607338 -0.362980 -0.348466 -0.288921 -1.855986  0.999999\n",
      "633597  0.031419  0.245747  0.201140  0.398885  0.097403 -0.999999\n",
      "633598 -0.359511  0.267639 -0.080910  0.325581  0.156899 -0.999999\n",
      "633599  0.110455 -0.103045 -0.047472  0.161119 -0.031206  0.999999\n",
      "\n",
      "[633600 rows x 6 columns]\n"
     ]
    }
   ],
   "source": [
    "z_scores = (Mixdf - Mixdf.mean()) / Mixdf.std()\n",
    "\n",
    "# Display the resulting DataFrame with z-scores\n",
    "print(z_scores)"
   ]
  },
  {
   "cell_type": "code",
   "execution_count": 83,
   "id": "2f37dc7a",
   "metadata": {},
   "outputs": [],
   "source": [
    "# Assuming df is your Truth_df DataFrame\n",
    "# Calculate z-scores for each column\n",
    "z_scores = (Mixdf - Mixdf.mean()) / Mixdf.std()\n",
    "\n",
    "# Define threshold for filtering outliers (e.g., z-score > 3 or < -3)\n",
    "threshold = 3\n",
    "\n",
    "# Filter out outliers based on the threshold\n",
    "filtered_df = Mixdf[(z_scores.abs() < threshold).all(axis=1)]"
   ]
  },
  {
   "cell_type": "code",
   "execution_count": 84,
   "id": "062c3a1c",
   "metadata": {},
   "outputs": [
    {
     "data": {
      "text/html": [
       "<div>\n",
       "<style scoped>\n",
       "    .dataframe tbody tr th:only-of-type {\n",
       "        vertical-align: middle;\n",
       "    }\n",
       "\n",
       "    .dataframe tbody tr th {\n",
       "        vertical-align: top;\n",
       "    }\n",
       "\n",
       "    .dataframe thead th {\n",
       "        text-align: right;\n",
       "    }\n",
       "</style>\n",
       "<table border=\"1\" class=\"dataframe\">\n",
       "  <thead>\n",
       "    <tr style=\"text-align: right;\">\n",
       "      <th></th>\n",
       "      <th>EEG.AF3</th>\n",
       "      <th>EEG.T7</th>\n",
       "      <th>EEG.Pz</th>\n",
       "      <th>EEG.T8</th>\n",
       "      <th>EEG.AF4</th>\n",
       "      <th>Outcome</th>\n",
       "    </tr>\n",
       "  </thead>\n",
       "  <tbody>\n",
       "    <tr>\n",
       "      <th>0</th>\n",
       "      <td>36.28624</td>\n",
       "      <td>9.18428</td>\n",
       "      <td>3.28969</td>\n",
       "      <td>15.68579</td>\n",
       "      <td>37.92233</td>\n",
       "      <td>0</td>\n",
       "    </tr>\n",
       "    <tr>\n",
       "      <th>1</th>\n",
       "      <td>-11.81180</td>\n",
       "      <td>-16.44911</td>\n",
       "      <td>-17.99954</td>\n",
       "      <td>6.15980</td>\n",
       "      <td>-11.65265</td>\n",
       "      <td>1</td>\n",
       "    </tr>\n",
       "    <tr>\n",
       "      <th>2</th>\n",
       "      <td>-10.97920</td>\n",
       "      <td>-26.72787</td>\n",
       "      <td>-14.93785</td>\n",
       "      <td>-16.80810</td>\n",
       "      <td>-11.01051</td>\n",
       "      <td>1</td>\n",
       "    </tr>\n",
       "    <tr>\n",
       "      <th>3</th>\n",
       "      <td>-4.35071</td>\n",
       "      <td>-49.77480</td>\n",
       "      <td>20.85038</td>\n",
       "      <td>29.21425</td>\n",
       "      <td>0.65072</td>\n",
       "      <td>0</td>\n",
       "    </tr>\n",
       "    <tr>\n",
       "      <th>4</th>\n",
       "      <td>-57.99297</td>\n",
       "      <td>1.38687</td>\n",
       "      <td>-15.62221</td>\n",
       "      <td>-17.69947</td>\n",
       "      <td>-49.50852</td>\n",
       "      <td>1</td>\n",
       "    </tr>\n",
       "    <tr>\n",
       "      <th>...</th>\n",
       "      <td>...</td>\n",
       "      <td>...</td>\n",
       "      <td>...</td>\n",
       "      <td>...</td>\n",
       "      <td>...</td>\n",
       "      <td>...</td>\n",
       "    </tr>\n",
       "    <tr>\n",
       "      <th>633595</th>\n",
       "      <td>-21.40431</td>\n",
       "      <td>17.64820</td>\n",
       "      <td>14.64466</td>\n",
       "      <td>-6.09314</td>\n",
       "      <td>-40.67672</td>\n",
       "      <td>0</td>\n",
       "    </tr>\n",
       "    <tr>\n",
       "      <th>633596</th>\n",
       "      <td>-190.90209</td>\n",
       "      <td>-20.10102</td>\n",
       "      <td>-18.57941</td>\n",
       "      <td>-16.15423</td>\n",
       "      <td>-162.04524</td>\n",
       "      <td>1</td>\n",
       "    </tr>\n",
       "    <tr>\n",
       "      <th>633597</th>\n",
       "      <td>3.73159</td>\n",
       "      <td>13.60889</td>\n",
       "      <td>10.72432</td>\n",
       "      <td>22.30258</td>\n",
       "      <td>8.50419</td>\n",
       "      <td>0</td>\n",
       "    </tr>\n",
       "    <tr>\n",
       "      <th>633598</th>\n",
       "      <td>-42.69876</td>\n",
       "      <td>14.82124</td>\n",
       "      <td>-4.31396</td>\n",
       "      <td>18.20397</td>\n",
       "      <td>13.69873</td>\n",
       "      <td>0</td>\n",
       "    </tr>\n",
       "    <tr>\n",
       "      <th>633599</th>\n",
       "      <td>13.11862</td>\n",
       "      <td>-5.70641</td>\n",
       "      <td>-2.53109</td>\n",
       "      <td>9.00852</td>\n",
       "      <td>-2.72459</td>\n",
       "      <td>1</td>\n",
       "    </tr>\n",
       "  </tbody>\n",
       "</table>\n",
       "<p>609467 rows × 6 columns</p>\n",
       "</div>"
      ],
      "text/plain": [
       "          EEG.AF3    EEG.T7    EEG.Pz    EEG.T8    EEG.AF4  Outcome\n",
       "0        36.28624   9.18428   3.28969  15.68579   37.92233        0\n",
       "1       -11.81180 -16.44911 -17.99954   6.15980  -11.65265        1\n",
       "2       -10.97920 -26.72787 -14.93785 -16.80810  -11.01051        1\n",
       "3        -4.35071 -49.77480  20.85038  29.21425    0.65072        0\n",
       "4       -57.99297   1.38687 -15.62221 -17.69947  -49.50852        1\n",
       "...           ...       ...       ...       ...        ...      ...\n",
       "633595  -21.40431  17.64820  14.64466  -6.09314  -40.67672        0\n",
       "633596 -190.90209 -20.10102 -18.57941 -16.15423 -162.04524        1\n",
       "633597    3.73159  13.60889  10.72432  22.30258    8.50419        0\n",
       "633598  -42.69876  14.82124  -4.31396  18.20397   13.69873        0\n",
       "633599   13.11862  -5.70641  -2.53109   9.00852   -2.72459        1\n",
       "\n",
       "[609467 rows x 6 columns]"
      ]
     },
     "execution_count": 84,
     "metadata": {},
     "output_type": "execute_result"
    }
   ],
   "source": [
    "filtered_df"
   ]
  },
  {
   "cell_type": "code",
   "execution_count": 85,
   "id": "3a84c0f1",
   "metadata": {},
   "outputs": [
    {
     "data": {
      "text/plain": [
       "(609467, 6)"
      ]
     },
     "execution_count": 85,
     "metadata": {},
     "output_type": "execute_result"
    }
   ],
   "source": [
    "filtered_df.shape"
   ]
  },
  {
   "cell_type": "code",
   "execution_count": 86,
   "id": "8bfddd0c",
   "metadata": {},
   "outputs": [
    {
     "data": {
      "text/plain": [
       "EEG.AF3    float64\n",
       "EEG.T7     float64\n",
       "EEG.Pz     float64\n",
       "EEG.T8     float64\n",
       "EEG.AF4    float64\n",
       "Outcome      int64\n",
       "dtype: object"
      ]
     },
     "execution_count": 86,
     "metadata": {},
     "output_type": "execute_result"
    }
   ],
   "source": [
    "filtered_df.dtypes"
   ]
  },
  {
   "cell_type": "code",
   "execution_count": 57,
   "id": "5ec4d65f",
   "metadata": {},
   "outputs": [
    {
     "data": {
      "text/plain": [
       "EEG.AF3    0\n",
       "EEG.T7     0\n",
       "EEG.Pz     0\n",
       "EEG.T8     0\n",
       "EEG.AF4    0\n",
       "Outcome    0\n",
       "dtype: int64"
      ]
     },
     "execution_count": 57,
     "metadata": {},
     "output_type": "execute_result"
    }
   ],
   "source": [
    "filtered_df.isnull().sum()"
   ]
  },
  {
   "cell_type": "code",
   "execution_count": 58,
   "id": "9b7ed498",
   "metadata": {},
   "outputs": [
    {
     "data": {
      "image/png": "[encoded data removed]",
      "text/plain": [
       "<Figure size 720x432 with 1 Axes>"
      ]
     },
     "metadata": {
      "needs_background": "light"
     },
     "output_type": "display_data"
    }
   ],
   "source": [
    "time = np.arange(len(filtered_df)) / 1000 # Assuming sampling rate of 1000 Hz\n",
    "\n",
    "plt.figure(figsize=(10, 6))\n",
    "plt.plot(time, filtered_df.values, color='blue')  # Use .values to get the underlying numpy array\n",
    "plt.xlabel('Time (seconds)')\n",
    "plt.ylabel('Amplitude')\n",
    "plt.title('Outliers Free Data')\n",
    "plt.grid(True)  # Add grid lines for better readability\n",
    "plt.tight_layout()  # Adjust layout to prevent clipping of labels\n",
    "plt.show()"
   ]
  },
  {
   "cell_type": "code",
   "execution_count": 88,
   "id": "1ec75371",
   "metadata": {},
   "outputs": [
    {
     "data": {
      "image/png": "[encoded data removed]",
      "text/plain": [
       "<Figure size 720x576 with 2 Axes>"
      ]
     },
     "metadata": {
      "needs_background": "light"
     },
     "output_type": "display_data"
    }
   ],
   "source": [
    "# Assuming filtered_df is your DataFrame\n",
    "Fcorrelation_matrix = filtered_df.corr()\n",
    "\n",
    "# Plot heatmap of correlation matrix\n",
    "plt.figure(figsize=(10, 8))\n",
    "sns.heatmap(Fcorrelation_matrix, annot=True, cmap='coolwarm', fmt=\".2f\")\n",
    "plt.title('Correlation Matrix')\n",
    "plt.show()"
   ]
  },
  {
   "cell_type": "markdown",
   "id": "108b3c66",
   "metadata": {},
   "source": [
    "                            CNN"
   ]
  },
  {
   "cell_type": "markdown",
   "id": "c92f1d09",
   "metadata": {},
   "source": [
    "\"EEG.T7\", \"EEG.Pz\", \"EEG.T8\","
   ]
  },
  {
   "cell_type": "code",
   "execution_count": 89,
   "id": "eb8dc8eb",
   "metadata": {},
   "outputs": [
    {
     "name": "stderr",
     "output_type": "stream",
     "text": [
      "C:\\Users\\DELL\\anaconda3\\lib\\site-packages\\keras\\src\\layers\\convolutional\\base_conv.py:99: UserWarning: Do not pass an `input_shape`/`input_dim` argument to a layer. When using Sequential models, prefer using an `Input(shape)` object as the first layer in the model instead.\n"
     ]
    },
    {
     "name": "stdout",
     "output_type": "stream",
     "text": [
      "Epoch 1/15\n"
     ]
    },
    {
     "ename": "ValueError",
     "evalue": "Exception encountered when calling Sequential.call().\n\n\u001b[1mInput 0 of layer \"dense\" is incompatible with the layer: expected axis -1 of input shape to have value 1280, but received input with shape (None, 512)\u001b[0m\n\nArguments received by Sequential.call():\n  • inputs=tf.Tensor(shape=(None, 2, 1), dtype=float32)\n  • training=True\n  • mask=None",
     "output_type": "error",
     "traceback": [
      "\u001b[1;31m---------------------------------------------------------------------------\u001b[0m",
      "\u001b[1;31mValueError\u001b[0m                                Traceback (most recent call last)",
      "\u001b[1;32m~\\AppData\\Local\\Temp/ipykernel_3732/1792851778.py\u001b[0m in \u001b[0;36m<module>\u001b[1;34m\u001b[0m\n\u001b[0;32m     41\u001b[0m \u001b[1;33m\u001b[0m\u001b[0m\n\u001b[0;32m     42\u001b[0m \u001b[1;31m# Train the model\u001b[0m\u001b[1;33m\u001b[0m\u001b[1;33m\u001b[0m\u001b[0m\n\u001b[1;32m---> 43\u001b[1;33m \u001b[0mhistory\u001b[0m \u001b[1;33m=\u001b[0m \u001b[0mmodel\u001b[0m\u001b[1;33m.\u001b[0m\u001b[0mfit\u001b[0m\u001b[1;33m(\u001b[0m\u001b[0mX_train\u001b[0m\u001b[1;33m,\u001b[0m \u001b[0my_train\u001b[0m\u001b[1;33m,\u001b[0m \u001b[0mepochs\u001b[0m\u001b[1;33m=\u001b[0m\u001b[1;36m15\u001b[0m\u001b[1;33m,\u001b[0m \u001b[0mbatch_size\u001b[0m\u001b[1;33m=\u001b[0m\u001b[1;36m64\u001b[0m\u001b[1;33m,\u001b[0m \u001b[0mvalidation_data\u001b[0m\u001b[1;33m=\u001b[0m\u001b[1;33m(\u001b[0m\u001b[0mX_test\u001b[0m\u001b[1;33m,\u001b[0m \u001b[0my_test\u001b[0m\u001b[1;33m)\u001b[0m\u001b[1;33m)\u001b[0m\u001b[1;33m\u001b[0m\u001b[1;33m\u001b[0m\u001b[0m\n\u001b[0m\u001b[0;32m     44\u001b[0m \u001b[1;33m\u001b[0m\u001b[0m\n\u001b[0;32m     45\u001b[0m \u001b[1;31m# Evaluate the model\u001b[0m\u001b[1;33m\u001b[0m\u001b[1;33m\u001b[0m\u001b[0m\n",
      "\u001b[1;32m~\\anaconda3\\lib\\site-packages\\keras\\src\\utils\\traceback_utils.py\u001b[0m in \u001b[0;36merror_handler\u001b[1;34m(*args, **kwargs)\u001b[0m\n\u001b[0;32m    120\u001b[0m             \u001b[1;31m# To get the full stack trace, call:\u001b[0m\u001b[1;33m\u001b[0m\u001b[1;33m\u001b[0m\u001b[0m\n\u001b[0;32m    121\u001b[0m             \u001b[1;31m# `keras.config.disable_traceback_filtering()`\u001b[0m\u001b[1;33m\u001b[0m\u001b[1;33m\u001b[0m\u001b[0m\n\u001b[1;32m--> 122\u001b[1;33m             \u001b[1;32mraise\u001b[0m \u001b[0me\u001b[0m\u001b[1;33m.\u001b[0m\u001b[0mwith_traceback\u001b[0m\u001b[1;33m(\u001b[0m\u001b[0mfiltered_tb\u001b[0m\u001b[1;33m)\u001b[0m \u001b[1;32mfrom\u001b[0m \u001b[1;32mNone\u001b[0m\u001b[1;33m\u001b[0m\u001b[1;33m\u001b[0m\u001b[0m\n\u001b[0m\u001b[0;32m    123\u001b[0m         \u001b[1;32mfinally\u001b[0m\u001b[1;33m:\u001b[0m\u001b[1;33m\u001b[0m\u001b[1;33m\u001b[0m\u001b[0m\n\u001b[0;32m    124\u001b[0m             \u001b[1;32mdel\u001b[0m \u001b[0mfiltered_tb\u001b[0m\u001b[1;33m\u001b[0m\u001b[1;33m\u001b[0m\u001b[0m\n",
      "\u001b[1;32m~\\anaconda3\\lib\\site-packages\\keras\\src\\layers\\input_spec.py\u001b[0m in \u001b[0;36massert_input_compatibility\u001b[1;34m(input_spec, inputs, layer_name)\u001b[0m\n\u001b[0;32m    225\u001b[0m                     \u001b[1;32mNone\u001b[0m\u001b[1;33m,\u001b[0m\u001b[1;33m\u001b[0m\u001b[1;33m\u001b[0m\u001b[0m\n\u001b[0;32m    226\u001b[0m                 }:\n\u001b[1;32m--> 227\u001b[1;33m                     raise ValueError(\n\u001b[0m\u001b[0;32m    228\u001b[0m                         \u001b[1;34mf'Input {input_index} of layer \"{layer_name}\" is '\u001b[0m\u001b[1;33m\u001b[0m\u001b[1;33m\u001b[0m\u001b[0m\n\u001b[0;32m    229\u001b[0m                         \u001b[1;34mf\"incompatible with the layer: expected axis {axis} \"\u001b[0m\u001b[1;33m\u001b[0m\u001b[1;33m\u001b[0m\u001b[0m\n",
      "\u001b[1;31mValueError\u001b[0m: Exception encountered when calling Sequential.call().\n\n\u001b[1mInput 0 of layer \"dense\" is incompatible with the layer: expected axis -1 of input shape to have value 1280, but received input with shape (None, 512)\u001b[0m\n\nArguments received by Sequential.call():\n  • inputs=tf.Tensor(shape=(None, 2, 1), dtype=float32)\n  • training=True\n  • mask=None"
     ]
    }
   ],
   "source": [
    "import numpy as np\n",
    "import pandas as pd\n",
    "from sklearn.model_selection import train_test_split\n",
    "from sklearn.preprocessing import StandardScaler\n",
    "from tensorflow.keras.models import Sequential\n",
    "from tensorflow.keras.layers import Conv1D, Flatten, Dense, Dropout\n",
    "\n",
    "# Assuming you have your EEG data stored in a DataFrame called 'filtered_df'\n",
    "# Load and preprocess the data\n",
    "\n",
    "# Split the data into features (X) and target (y)\n",
    "X = filtered_df[[\"EEG.AF3\",\"EEG.T7\", \"EEG.Pz\", \"EEG.T8\",\"EEG.AF4\"]].values\n",
    "y = filtered_df[\"Outcome\"].values\n",
    "\n",
    "# Standardize the features\n",
    "scaler = StandardScaler()\n",
    "X_scaled = scaler.fit_transform(X)\n",
    "\n",
    "# Split the data into train and test sets\n",
    "X_train, X_test, y_train, y_test = train_test_split(X_scaled, y, test_size=0.2, random_state=42)\n",
    "\n",
    "# Reshape the input data for CNN (add a channel dimension)\n",
    "X_train = X_train.reshape(X_train.shape[0], X_train.shape[1], 1)\n",
    "X_test = X_test.reshape(X_test.shape[0], X_test.shape[1], 1)\n",
    "\n",
    "# Build the CNN model\n",
    "model = Sequential([\n",
    "    Conv1D(filters=64, kernel_size=3, activation='relu', padding='same', input_shape=(5, 1)),\n",
    "    Conv1D(filters=128, kernel_size=3, activation='relu', padding='same'),\n",
    "    Conv1D(filters=256, kernel_size=3, activation='relu', padding='same'),\n",
    "    Flatten(),\n",
    "    Dense(128, activation='relu'),\n",
    "    Dropout(0.5),\n",
    "    Dense(64, activation='relu'),\n",
    "    Dropout(0.5),\n",
    "    Dense(1, activation='sigmoid')\n",
    "])\n",
    "\n",
    "# Compile the model\n",
    "model.compile(optimizer='adam', loss='binary_crossentropy', metrics=['accuracy'])\n",
    "\n",
    "# Train the model\n",
    "history = model.fit(X_train, y_train, epochs=15, batch_size=64, validation_data=(X_test, y_test))\n",
    "\n",
    "# Evaluate the model\n",
    "loss, accuracy = model.evaluate(X_test, y_test)\n",
    "print(f\"Test Accuracy: {accuracy * 100:.2f}%\")\n",
    "\n",
    "# Print the loss\n",
    "print(f\"Test Loss: {loss}\")\n"
   ]
  },
  {
   "cell_type": "markdown",
   "id": "f000082f",
   "metadata": {},
   "source": [
    "        LSTM model"
   ]
  },
  {
   "cell_type": "code",
   "execution_count": null,
   "id": "fef4668a",
   "metadata": {},
   "outputs": [],
   "source": [
    "import numpy as np\n",
    "import pandas as pd\n",
    "from sklearn.model_selection import train_test_split\n",
    "from sklearn.preprocessing import StandardScaler\n",
    "from tensorflow.keras.models import Sequential\n",
    "from tensorflow.keras.layers import LSTM, Dense, Dropout\n",
    "\n",
    "# Assuming you have your EEG data stored in a DataFrame called 'eeg_data'\n",
    "# Load and preprocess the data\n",
    "\n",
    "# Split the data into features (X) and target (y)\n",
    "X = filtered_df[[\"EEG.AF3\", \"EEG.T7\", \"EEG.Pz\", \"EEG.T8\", \"EEG.AF4\"]].values\n",
    "y = filtered_df[\"Outcome\"].values\n",
    "\n",
    "# Standardize the features\n",
    "scaler = StandardScaler()\n",
    "X_scaled = scaler.fit_transform(X)\n",
    "\n",
    "# Split the data into train and test sets\n",
    "X_train, X_test, y_train, y_test = train_test_split(X_scaled, y, test_size=0.2, random_state=42)\n",
    "\n",
    "# Reshape the input data for LSTM (add a time step dimension)\n",
    "X_train = X_train.reshape(X_train.shape[0], X_train.shape[1], 1)\n",
    "X_test = X_test.reshape(X_test.shape[0], X_test.shape[1], 1)\n",
    "\n",
    "# Build the LSTM model\n",
    "model = Sequential([\n",
    "    LSTM(units=64, input_shape=(X_train.shape[1], 1)),\n",
    "    Dropout(0.5),\n",
    "    Dense(32, activation='relu'),\n",
    "    Dropout(0.5),\n",
    "    Dense(1, activation='sigmoid')\n",
    "])\n",
    "\n",
    "# Compile the model\n",
    "model.compile(optimizer='adam', loss='binary_crossentropy', metrics=['accuracy'])\n",
    "\n",
    "# Train the model\n",
    "history = model.fit(X_train, y_train, epochs=10, batch_size=32, validation_data=(X_test, y_test))\n",
    "\n",
    "# Evaluate the model\n",
    "loss, accuracy = model.evaluate(X_test, y_test)\n",
    "print(f\"Test Accuracy: {accuracy * 100:.2f}%\")\n"
   ]
  },
  {
   "cell_type": "markdown",
   "id": "10dfe9c4",
   "metadata": {},
   "source": [
    "CNN +  LSTM"
   ]
  },
  {
   "cell_type": "code",
   "execution_count": null,
   "id": "5d21cdf3",
   "metadata": {},
   "outputs": [
    {
     "name": "stdout",
     "output_type": "stream",
     "text": [
      "Epoch 1/15\n"
     ]
    },
    {
     "name": "stderr",
     "output_type": "stream",
     "text": [
      "C:\\Users\\DELL\\anaconda3\\lib\\site-packages\\keras\\src\\layers\\convolutional\\base_conv.py:99: UserWarning: Do not pass an `input_shape`/`input_dim` argument to a layer. When using Sequential models, prefer using an `Input(shape)` object as the first layer in the model instead.\n"
     ]
    },
    {
     "name": "stdout",
     "output_type": "stream",
     "text": [
      "\u001b[1m7619/7619\u001b[0m \u001b[32m━━━━━━━━━━━━━━━━━━━━\u001b[0m\u001b[37m\u001b[0m \u001b[1m108s\u001b[0m 14ms/step - accuracy: 0.5514 - loss: 0.6833 - val_accuracy: 0.5722 - val_loss: 0.6718\n",
      "Epoch 2/15\n",
      "\u001b[1m7619/7619\u001b[0m \u001b[32m━━━━━━━━━━━━━━━━━━━━\u001b[0m\u001b[37m\u001b[0m \u001b[1m108s\u001b[0m 14ms/step - accuracy: 0.5770 - loss: 0.6713 - val_accuracy: 0.5783 - val_loss: 0.6681\n",
      "Epoch 3/15\n",
      "\u001b[1m7619/7619\u001b[0m \u001b[32m━━━━━━━━━━━━━━━━━━━━\u001b[0m\u001b[37m\u001b[0m \u001b[1m106s\u001b[0m 14ms/step - accuracy: 0.5792 - loss: 0.6682 - val_accuracy: 0.5850 - val_loss: 0.6631\n",
      "Epoch 4/15\n",
      "\u001b[1m7619/7619\u001b[0m \u001b[32m━━━━━━━━━━━━━━━━━━━━\u001b[0m\u001b[37m\u001b[0m \u001b[1m141s\u001b[0m 14ms/step - accuracy: 0.5833 - loss: 0.6656 - val_accuracy: 0.5859 - val_loss: 0.6625\n",
      "Epoch 5/15\n",
      "\u001b[1m7619/7619\u001b[0m \u001b[32m━━━━━━━━━━━━━━━━━━━━\u001b[0m\u001b[37m\u001b[0m \u001b[1m107s\u001b[0m 14ms/step - accuracy: 0.5845 - loss: 0.6638 - val_accuracy: 0.5869 - val_loss: 0.6615\n",
      "Epoch 6/15\n",
      "\u001b[1m7619/7619\u001b[0m \u001b[32m━━━━━━━━━━━━━━━━━━━━\u001b[0m\u001b[37m\u001b[0m \u001b[1m106s\u001b[0m 14ms/step - accuracy: 0.5876 - loss: 0.6622 - val_accuracy: 0.5872 - val_loss: 0.6604\n",
      "Epoch 7/15\n",
      "\u001b[1m7619/7619\u001b[0m \u001b[32m━━━━━━━━━━━━━━━━━━━━\u001b[0m\u001b[37m\u001b[0m \u001b[1m101s\u001b[0m 13ms/step - accuracy: 0.5883 - loss: 0.6607 - val_accuracy: 0.5890 - val_loss: 0.6601\n",
      "Epoch 8/15\n",
      "\u001b[1m7619/7619\u001b[0m \u001b[32m━━━━━━━━━━━━━━━━━━━━\u001b[0m\u001b[37m\u001b[0m \u001b[1m97s\u001b[0m 13ms/step - accuracy: 0.5904 - loss: 0.6592 - val_accuracy: 0.5912 - val_loss: 0.6578\n",
      "Epoch 9/15\n",
      "\u001b[1m7619/7619\u001b[0m \u001b[32m━━━━━━━━━━━━━━━━━━━━\u001b[0m\u001b[37m\u001b[0m \u001b[1m96s\u001b[0m 13ms/step - accuracy: 0.5927 - loss: 0.6574 - val_accuracy: 0.5926 - val_loss: 0.6582\n",
      "Epoch 10/15\n",
      "\u001b[1m7619/7619\u001b[0m \u001b[32m━━━━━━━━━━━━━━━━━━━━\u001b[0m\u001b[37m\u001b[0m \u001b[1m105s\u001b[0m 14ms/step - accuracy: 0.5925 - loss: 0.6572 - val_accuracy: 0.5876 - val_loss: 0.6582\n",
      "Epoch 11/15\n",
      "\u001b[1m7619/7619\u001b[0m \u001b[32m━━━━━━━━━━━━━━━━━━━━\u001b[0m\u001b[37m\u001b[0m \u001b[1m106s\u001b[0m 14ms/step - accuracy: 0.5948 - loss: 0.6562 - val_accuracy: 0.5914 - val_loss: 0.6566\n",
      "Epoch 12/15\n",
      "\u001b[1m7619/7619\u001b[0m \u001b[32m━━━━━━━━━━━━━━━━━━━━\u001b[0m\u001b[37m\u001b[0m \u001b[1m108s\u001b[0m 14ms/step - accuracy: 0.5951 - loss: 0.6551 - val_accuracy: 0.5934 - val_loss: 0.6561\n",
      "Epoch 13/15\n",
      "\u001b[1m7619/7619\u001b[0m \u001b[32m━━━━━━━━━━━━━━━━━━━━\u001b[0m\u001b[37m\u001b[0m \u001b[1m106s\u001b[0m 14ms/step - accuracy: 0.5953 - loss: 0.6544 - val_accuracy: 0.5934 - val_loss: 0.6550\n",
      "Epoch 14/15\n",
      "\u001b[1m7619/7619\u001b[0m \u001b[32m━━━━━━━━━━━━━━━━━━━━\u001b[0m\u001b[37m\u001b[0m \u001b[1m108s\u001b[0m 14ms/step - accuracy: 0.5971 - loss: 0.6541 - val_accuracy: 0.5936 - val_loss: 0.6572\n",
      "Epoch 15/15\n",
      "\u001b[1m7619/7619\u001b[0m \u001b[32m━━━━━━━━━━━━━━━━━━━━\u001b[0m\u001b[37m\u001b[0m \u001b[1m109s\u001b[0m 14ms/step - accuracy: 0.5978 - loss: 0.6534 - val_accuracy: 0.5919 - val_loss: 0.6558\n",
      "Epoch 1/10\n"
     ]
    },
    {
     "name": "stderr",
     "output_type": "stream",
     "text": [
      "C:\\Users\\DELL\\anaconda3\\lib\\site-packages\\keras\\src\\layers\\rnn\\rnn.py:204: UserWarning: Do not pass an `input_shape`/`input_dim` argument to a layer. When using Sequential models, prefer using an `Input(shape)` object as the first layer in the model instead.\n"
     ]
    },
    {
     "name": "stdout",
     "output_type": "stream",
     "text": [
      "\u001b[1m15237/15237\u001b[0m \u001b[32m━━━━━━━━━━━━━━━━━━━━\u001b[0m\u001b[37m\u001b[0m \u001b[1m88s\u001b[0m 6ms/step - accuracy: 0.5158 - loss: 0.6919 - val_accuracy: 0.5651 - val_loss: 0.6803\n",
      "Epoch 2/10\n",
      "\u001b[1m15237/15237\u001b[0m \u001b[32m━━━━━━━━━━━━━━━━━━━━\u001b[0m\u001b[37m\u001b[0m \u001b[1m85s\u001b[0m 6ms/step - accuracy: 0.5566 - loss: 0.6820 - val_accuracy: 0.5677 - val_loss: 0.6771\n",
      "Epoch 3/10\n",
      "\u001b[1m15237/15237\u001b[0m \u001b[32m━━━━━━━━━━━━━━━━━━━━\u001b[0m\u001b[37m\u001b[0m \u001b[1m84s\u001b[0m 6ms/step - accuracy: 0.5644 - loss: 0.6787 - val_accuracy: 0.5736 - val_loss: 0.6728\n",
      "Epoch 4/10\n",
      "\u001b[1m15237/15237\u001b[0m \u001b[32m━━━━━━━━━━━━━━━━━━━━\u001b[0m\u001b[37m\u001b[0m \u001b[1m140s\u001b[0m 5ms/step - accuracy: 0.5675 - loss: 0.6768 - val_accuracy: 0.5748 - val_loss: 0.6717\n",
      "Epoch 5/10\n",
      "\u001b[1m15237/15237\u001b[0m \u001b[32m━━━━━━━━━━━━━━━━━━━━\u001b[0m\u001b[37m\u001b[0m \u001b[1m79s\u001b[0m 5ms/step - accuracy: 0.5705 - loss: 0.6748 - val_accuracy: 0.5776 - val_loss: 0.6698\n",
      "Epoch 6/10\n",
      "\u001b[1m15237/15237\u001b[0m \u001b[32m━━━━━━━━━━━━━━━━━━━━\u001b[0m\u001b[37m\u001b[0m \u001b[1m81s\u001b[0m 5ms/step - accuracy: 0.5720 - loss: 0.6742 - val_accuracy: 0.5786 - val_loss: 0.6688\n",
      "Epoch 7/10\n",
      "\u001b[1m15237/15237\u001b[0m \u001b[32m━━━━━━━━━━━━━━━━━━━━\u001b[0m\u001b[37m\u001b[0m \u001b[1m81s\u001b[0m 5ms/step - accuracy: 0.5733 - loss: 0.6724 - val_accuracy: 0.5787 - val_loss: 0.6689\n",
      "Epoch 8/10\n",
      "\u001b[1m15237/15237\u001b[0m \u001b[32m━━━━━━━━━━━━━━━━━━━━\u001b[0m\u001b[37m\u001b[0m \u001b[1m81s\u001b[0m 5ms/step - accuracy: 0.5760 - loss: 0.6717 - val_accuracy: 0.5797 - val_loss: 0.6678\n",
      "Epoch 9/10\n",
      "\u001b[1m15237/15237\u001b[0m \u001b[32m━━━━━━━━━━━━━━━━━━━━\u001b[0m\u001b[37m\u001b[0m \u001b[1m82s\u001b[0m 5ms/step - accuracy: 0.5757 - loss: 0.6714 - val_accuracy: 0.5815 - val_loss: 0.6663\n",
      "Epoch 10/10\n",
      "\u001b[1m13809/15237\u001b[0m \u001b[32m━━━━━━━━━━━━━━━━━━\u001b[0m\u001b[37m━━\u001b[0m \u001b[1m6s\u001b[0m 5ms/step - accuracy: 0.5773 - loss: 0.6698"
     ]
    }
   ],
   "source": [
    "import numpy as np\n",
    "import pandas as pd\n",
    "from sklearn.model_selection import train_test_split\n",
    "from sklearn.preprocessing import StandardScaler\n",
    "from tensorflow.keras.models import Sequential\n",
    "from tensorflow.keras.layers import Conv1D, Flatten, Dense, Dropout, LSTM\n",
    "\n",
    "# Assuming you have your EEG data stored in a DataFrame called 'filtered_df'\n",
    "# Load and preprocess the data\n",
    "\n",
    "# Split the data into features (X) and target (y)\n",
    "X = filtered_df[[\"EEG.AF3\", \"EEG.T7\", \"EEG.Pz\", \"EEG.T8\", \"EEG.AF4\"]].values\n",
    "y = filtered_df[\"Outcome\"].values\n",
    "\n",
    "# Standardize the features\n",
    "scaler = StandardScaler()\n",
    "X_scaled = scaler.fit_transform(X)\n",
    "\n",
    "# Split the data into train and test sets\n",
    "X_train_cnn, X_test_cnn, y_train_cnn, y_test_cnn = train_test_split(X_scaled, y, test_size=0.2, random_state=42)\n",
    "X_train_lstm, X_test_lstm, y_train_lstm, y_test_lstm = train_test_split(X_scaled, y, test_size=0.2, random_state=42)\n",
    "\n",
    "# Reshape the input data for CNN (add a channel dimension)\n",
    "X_train_cnn = X_train_cnn.reshape(X_train_cnn.shape[0], X_train_cnn.shape[1], 1)\n",
    "X_test_cnn = X_test_cnn.reshape(X_test_cnn.shape[0], X_test_cnn.shape[1], 1)\n",
    "\n",
    "# Reshape the input data for LSTM (add a time step dimension)\n",
    "X_train_lstm = X_train_lstm.reshape(X_train_lstm.shape[0], X_train_lstm.shape[1], 1)\n",
    "X_test_lstm = X_test_lstm.reshape(X_test_lstm.shape[0], X_test_lstm.shape[1], 1)\n",
    "\n",
    "# Build the CNN model\n",
    "cnn_model = Sequential([\n",
    "    Conv1D(filters=64, kernel_size=3, activation='relu', padding='same', input_shape=(5, 1)),\n",
    "    Conv1D(filters=128, kernel_size=3, activation='relu', padding='same'),\n",
    "    Conv1D(filters=256, kernel_size=3, activation='relu', padding='same'),\n",
    "    Flatten(),\n",
    "    Dense(128, activation='relu'),\n",
    "    Dropout(0.5),\n",
    "    Dense(64, activation='relu'),\n",
    "    Dropout(0.5),\n",
    "    Dense(1, activation='sigmoid')\n",
    "])\n",
    "\n",
    "# Compile the CNN model\n",
    "cnn_model.compile(optimizer='adam', loss='binary_crossentropy', metrics=['accuracy'])\n",
    "\n",
    "# Train the CNN model\n",
    "cnn_history = cnn_model.fit(X_train_cnn, y_train_cnn, epochs=15, batch_size=64, validation_data=(X_test_cnn, y_test_cnn))\n",
    "\n",
    "# Build the LSTM model\n",
    "lstm_model = Sequential([\n",
    "    LSTM(units=64, input_shape=(X_train_lstm.shape[1], 1)),\n",
    "    Dropout(0.5),\n",
    "    Dense(32, activation='relu'),\n",
    "    Dropout(0.5),\n",
    "    Dense(1, activation='sigmoid')\n",
    "])\n",
    "\n",
    "# Compile the LSTM model\n",
    "lstm_model.compile(optimizer='adam', loss='binary_crossentropy', metrics=['accuracy'])\n",
    "\n",
    "# Train the LSTM model\n",
    "lstm_history = lstm_model.fit(X_train_lstm, y_train_lstm, epochs=10, batch_size=32, validation_data=(X_test_lstm, y_test_lstm))\n",
    "\n",
    "# Combine predictions\n",
    "cnn_pred = cnn_model.predict(X_test_cnn)\n",
    "lstm_pred = lstm_model.predict(X_test_lstm)\n",
    "\n",
    "# Combine predictions using a weighted average\n",
    "combined_pred = (cnn_pred + lstm_pred) / 2\n",
    "\n",
    "# Calculate accuracy\n",
    "combined_accuracy = np.mean((combined_pred > 0.5) == y_test_cnn)\n",
    "\n",
    "print(f\"Combined Test Accuracy: {combined_accuracy * 100:.2f}%\")\n"
   ]
  },
  {
   "cell_type": "code",
   "execution_count": null,
   "id": "ad5037c6",
   "metadata": {},
   "outputs": [],
   "source": []
  },
  {
   "cell_type": "code",
   "execution_count": 91,
   "id": "c20e8762",
   "metadata": {},
   "outputs": [
    {
     "name": "stdout",
     "output_type": "stream",
     "text": [
      "Epoch 1/10\n"
     ]
    },
    {
     "name": "stderr",
     "output_type": "stream",
     "text": [
      "C:\\Users\\DELL\\anaconda3\\lib\\site-packages\\keras\\src\\layers\\convolutional\\base_conv.py:99: UserWarning: Do not pass an `input_shape`/`input_dim` argument to a layer. When using Sequential models, prefer using an `Input(shape)` object as the first layer in the model instead.\n"
     ]
    },
    {
     "name": "stdout",
     "output_type": "stream",
     "text": [
      "\u001b[1m15237/15237\u001b[0m \u001b[32m━━━━━━━━━━━━━━━━━━━━\u001b[0m\u001b[37m\u001b[0m \u001b[1m43s\u001b[0m 3ms/step - accuracy: 0.5329 - loss: 0.6895 - val_accuracy: 0.5370 - val_loss: 0.6876\n",
      "Epoch 2/10\n",
      "\u001b[1m15237/15237\u001b[0m \u001b[32m━━━━━━━━━━━━━━━━━━━━\u001b[0m\u001b[37m\u001b[0m \u001b[1m38s\u001b[0m 2ms/step - accuracy: 0.5387 - loss: 0.6877 - val_accuracy: 0.5387 - val_loss: 0.6865\n",
      "Epoch 3/10\n",
      "\u001b[1m15237/15237\u001b[0m \u001b[32m━━━━━━━━━━━━━━━━━━━━\u001b[0m\u001b[37m\u001b[0m \u001b[1m40s\u001b[0m 3ms/step - accuracy: 0.5378 - loss: 0.6875 - val_accuracy: 0.5360 - val_loss: 0.6876\n",
      "Epoch 4/10\n",
      "\u001b[1m15237/15237\u001b[0m \u001b[32m━━━━━━━━━━━━━━━━━━━━\u001b[0m\u001b[37m\u001b[0m \u001b[1m39s\u001b[0m 3ms/step - accuracy: 0.5391 - loss: 0.6874 - val_accuracy: 0.5363 - val_loss: 0.6869\n",
      "Epoch 5/10\n",
      "\u001b[1m15237/15237\u001b[0m \u001b[32m━━━━━━━━━━━━━━━━━━━━\u001b[0m\u001b[37m\u001b[0m \u001b[1m40s\u001b[0m 3ms/step - accuracy: 0.5389 - loss: 0.6872 - val_accuracy: 0.5381 - val_loss: 0.6865\n",
      "Epoch 6/10\n",
      "\u001b[1m15237/15237\u001b[0m \u001b[32m━━━━━━━━━━━━━━━━━━━━\u001b[0m\u001b[37m\u001b[0m \u001b[1m40s\u001b[0m 3ms/step - accuracy: 0.5388 - loss: 0.6869 - val_accuracy: 0.5383 - val_loss: 0.6866\n",
      "Epoch 7/10\n",
      "\u001b[1m15237/15237\u001b[0m \u001b[32m━━━━━━━━━━━━━━━━━━━━\u001b[0m\u001b[37m\u001b[0m \u001b[1m40s\u001b[0m 3ms/step - accuracy: 0.5395 - loss: 0.6870 - val_accuracy: 0.5383 - val_loss: 0.6864\n",
      "Epoch 8/10\n",
      "\u001b[1m15237/15237\u001b[0m \u001b[32m━━━━━━━━━━━━━━━━━━━━\u001b[0m\u001b[37m\u001b[0m \u001b[1m40s\u001b[0m 3ms/step - accuracy: 0.5388 - loss: 0.6869 - val_accuracy: 0.5382 - val_loss: 0.6863\n",
      "Epoch 9/10\n",
      "\u001b[1m15237/15237\u001b[0m \u001b[32m━━━━━━━━━━━━━━━━━━━━\u001b[0m\u001b[37m\u001b[0m \u001b[1m41s\u001b[0m 3ms/step - accuracy: 0.5379 - loss: 0.6870 - val_accuracy: 0.5383 - val_loss: 0.6870\n",
      "Epoch 10/10\n",
      "\u001b[1m15237/15237\u001b[0m \u001b[32m━━━━━━━━━━━━━━━━━━━━\u001b[0m\u001b[37m\u001b[0m \u001b[1m37s\u001b[0m 2ms/step - accuracy: 0.5389 - loss: 0.6869 - val_accuracy: 0.5391 - val_loss: 0.6860\n",
      "\u001b[1m3810/3810\u001b[0m \u001b[32m━━━━━━━━━━━━━━━━━━━━\u001b[0m\u001b[37m\u001b[0m \u001b[1m6s\u001b[0m 2ms/step - accuracy: 0.5388 - loss: 0.6859\n",
      "Test Accuracy: 53.91%\n",
      "Test Loss: 0.686009407043457\n"
     ]
    }
   ],
   "source": [
    "import numpy as np\n",
    "import pandas as pd\n",
    "from sklearn.model_selection import train_test_split\n",
    "from sklearn.preprocessing import StandardScaler\n",
    "from tensorflow.keras.models import Sequential\n",
    "from tensorflow.keras.layers import Conv1D, MaxPooling1D, Flatten, Dense, Dropout\n",
    "\n",
    "# Assuming you have your EEG data stored in a DataFrame called 'filtered_df'\n",
    "# Load and preprocess the data\n",
    "\n",
    "# Split the data into features (X) and target (y)\n",
    "X = filtered_df[[\"EEG.AF3\", \"EEG.AF4\"]].values\n",
    "y = filtered_df[\"Outcome\"].values\n",
    "\n",
    "# Standardize the features\n",
    "scaler = StandardScaler()\n",
    "X_scaled = scaler.fit_transform(X)\n",
    "\n",
    "# Split the data into train and test sets\n",
    "X_train, X_test, y_train, y_test = train_test_split(X_scaled, y, test_size=0.2, random_state=42)\n",
    "\n",
    "# Reshape the input data for CNN (add a channel dimension)\n",
    "X_train = X_train.reshape(X_train.shape[0], X_train.shape[1], 1)\n",
    "X_test = X_test.reshape(X_test.shape[0], X_test.shape[1], 1)\n",
    "\n",
    "# Build the CNN model\n",
    "model = Sequential([\n",
    "    Conv1D(filters=32, kernel_size=3, activation='relu', padding='same', input_shape=(2, 1)),\n",
    "    MaxPooling1D(pool_size=2),\n",
    "    Conv1D(filters=64, kernel_size=3, activation='relu', padding='same'),\n",
    "    Flatten(),\n",
    "    Dense(64, activation='relu'),\n",
    "    Dropout(0.5),\n",
    "    Dense(1, activation='sigmoid')\n",
    "])\n",
    "\n",
    "# Compile the model\n",
    "model.compile(optimizer='adam', loss='binary_crossentropy', metrics=['accuracy'])\n",
    "\n",
    "# Train the model\n",
    "history = model.fit(X_train, y_train, epochs=10, batch_size=32, validation_data=(X_test, y_test))\n",
    "\n",
    "# Evaluate the model\n",
    "loss, accuracy = model.evaluate(X_test, y_test)\n",
    "print(f\"Test Accuracy: {accuracy * 100:.2f}%\")\n",
    "\n",
    "# Print the loss\n",
    "print(f\"Test Loss: {loss}\")\n"
   ]
  },
  {
   "cell_type": "code",
   "execution_count": null,
   "id": "acb18d36",
   "metadata": {},
   "outputs": [],
   "source": [
    "import pandas as pd\n",
    "from sklearn.model_selection import train_test_split\n",
    "from sklearn.preprocessing import StandardScaler\n",
    "from sklearn.svm import SVC\n",
    "from sklearn.metrics import accuracy_score\n",
    "\n",
    "# Assuming you have your EEG data stored in a DataFrame called 'eeg_data'\n",
    "# Load and preprocess the data\n",
    "X = filtered_df[[\"EEG.AF3\", \"EEG.T7\", \"EEG.Pz\", \"EEG.T8\", \"EEG.AF4\"]].values\n",
    "y = filtered_df[\"Outcome\"].values\n",
    "\n",
    "# Split the data into train and test sets\n",
    "X_train, X_test, y_train, y_test = train_test_split(X, y, test_size=0.2, random_state=42)\n",
    "\n",
    "# Standardize the features\n",
    "scaler = StandardScaler()\n",
    "X_train_scaled = scaler.fit_transform(X_train)\n",
    "X_test_scaled = scaler.transform(X_test)\n",
    "\n",
    "# Build the SVM model\n",
    "svm_model = SVC(kernel='rbf', C=1.0, gamma='scale', random_state=42)\n",
    "\n",
    "# Train the model\n",
    "svm_model.fit(X_train_scaled, y_train)\n",
    "\n",
    "# Predict on the test set\n",
    "y_pred = svm_model.predict(X_test_scaled)\n",
    "\n",
    "# Calculate accuracy\n",
    "accuracy = accuracy_score(y_test, y_pred)\n",
    "print(f\"Test Accuracy: {accuracy * 100:.2f}%\")\n"
   ]
  },
  {
   "cell_type": "code",
   "execution_count": null,
   "id": "3879d110",
   "metadata": {},
   "outputs": [],
   "source": []
  }
 ],
 "metadata": {
  "kernelspec": {
   "display_name": "Python 3 (ipykernel)",
   "language": "python",
   "name": "python3"
  },
  "language_info": {
   "codemirror_mode": {
    "name": "ipython",
    "version": 3
   },
   "file_extension": ".py",
   "mimetype": "text/x-python",
   "name": "python",
   "nbconvert_exporter": "python",
   "pygments_lexer": "ipython3",
   "version": "3.9.7"
  }
 },
 "nbformat": 4,
 "nbformat_minor": 5
}
